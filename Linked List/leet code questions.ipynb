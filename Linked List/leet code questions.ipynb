{
 "cells": [
  {
   "cell_type": "code",
   "execution_count": 1,
   "id": "818107a6",
   "metadata": {},
   "outputs": [],
   "source": [
    "import pytest\n",
    "import ipytest\n",
    "import logging\n",
    "logging.basicConfig(level=logging.NOTSET)\n",
    "ipytest.autoconfig()"
   ]
  },
  {
   "cell_type": "markdown",
   "id": "fdaac2e0",
   "metadata": {},
   "source": [
    "### Singly-Linked List Helper Functions"
   ]
  },
  {
   "cell_type": "code",
   "execution_count": 2,
   "id": "022058ef",
   "metadata": {},
   "outputs": [],
   "source": [
    "# Definition for singly-linked list.\n",
    "class ListNode:\n",
    "    def __init__(self, val=0, next=None):\n",
    "        self.val = val\n",
    "        self.next = next\n",
    "\n",
    "def insert(head, item):\n",
    "    temp = ListNode(item)\n",
    "\n",
    "    if (head == None):\n",
    "        head = temp\n",
    "    else :\n",
    "        ptr = head\n",
    "        while (ptr.next != None):\n",
    "            ptr = ptr.next\n",
    "        ptr.next = temp\n",
    "\n",
    "    return head\n",
    "\n",
    "def arrayToLinkedList(arr, n):\n",
    "    head = None\n",
    "    for i in range(0, n, 1):\n",
    "        head = insert(head, arr[i])\n",
    "\n",
    "    return head\n",
    "\n",
    "\n",
    "def findLength(head):\n",
    "\n",
    "    curr = head\n",
    "    cnt = 0\n",
    "    while (curr != None):\n",
    "\n",
    "        cnt = cnt + 1\n",
    "        curr = curr.next\n",
    "\n",
    "    return cnt\n",
    "\n",
    "def linkedListToArray(head):\n",
    "\n",
    "    arr = []\n",
    "\n",
    "    index = 0\n",
    "    curr = head\n",
    "\n",
    "    while (curr != None): \n",
    "        arr.append( curr.val)\n",
    "        curr = curr.next\n",
    "\n",
    "    return arr"
   ]
  },
  {
   "cell_type": "markdown",
   "id": "ec63122a",
   "metadata": {},
   "source": [
    "### Reverse Linked List"
   ]
  },
  {
   "cell_type": "code",
   "execution_count": 3,
   "id": "b3bb8de4",
   "metadata": {},
   "outputs": [],
   "source": [
    "class Solution:\n",
    "    def reverseList(self, head: ListNode) -> ListNode:\n",
    "        prev, curr = None, head\n",
    "\n",
    "        while curr:\n",
    "            temp = curr.next\n",
    "            curr.next = prev\n",
    "            prev = curr\n",
    "            curr = temp\n",
    "            \n",
    "        return prev"
   ]
  },
  {
   "cell_type": "code",
   "execution_count": 4,
   "id": "319adf19",
   "metadata": {},
   "outputs": [
    {
     "name": "stdout",
     "output_type": "stream",
     "text": [
      "\u001b[32m.\u001b[0m\n",
      "\u001b[32m\u001b[32m\u001b[1m1 passed\u001b[0m\u001b[32m in 0.00s\u001b[0m\u001b[0m\n"
     ]
    }
   ],
   "source": [
    "%%ipytest -s\n",
    "def test1():\n",
    "    arr = [1,2,3,4,5]\n",
    "    n = len(arr)\n",
    "    head = arrayToLinkedList(arr, n)\n",
    "    obj = Solution()\n",
    "    assert linkedListToArray(obj.reverseList(head)) == [5,4,3,2,1]"
   ]
  },
  {
   "cell_type": "markdown",
   "id": "c3245f35",
   "metadata": {},
   "source": [
    "### Merge Two Sorted Lists"
   ]
  },
  {
   "cell_type": "code",
   "execution_count": 5,
   "id": "b8beb773",
   "metadata": {},
   "outputs": [],
   "source": [
    "class Solution:\n",
    "    def mergeTwoLists(self, list1: ListNode, list2: ListNode) -> ListNode:\n",
    "        dummy = ListNode()\n",
    "        tail = dummy\n",
    "\n",
    "        while list1 and list2:\n",
    "            if list1.val < list2.val:\n",
    "                tail.next = list1\n",
    "                list1 = list1.next\n",
    "            else:\n",
    "                tail.next = list2\n",
    "                list2 = list2.next\n",
    "            tail = tail.next\n",
    "\n",
    "        if list1:\n",
    "            tail.next = list1\n",
    "        elif list2:\n",
    "            tail.next = list2\n",
    "            \n",
    "        return dummy.next"
   ]
  },
  {
   "cell_type": "code",
   "execution_count": 6,
   "id": "b3a954a4",
   "metadata": {},
   "outputs": [
    {
     "name": "stdout",
     "output_type": "stream",
     "text": [
      "\u001b[32m.\u001b[0m\n",
      "\u001b[32m\u001b[32m\u001b[1m1 passed\u001b[0m\u001b[32m in 0.00s\u001b[0m\u001b[0m\n"
     ]
    }
   ],
   "source": [
    "%%ipytest -s\n",
    "def test1():\n",
    "    list1 = [1,2,4]\n",
    "    list2 = [1,3,4]\n",
    "    \n",
    "    n1 = len(list1)\n",
    "    n2 = len(list2)\n",
    "    \n",
    "    head1 = arrayToLinkedList(list1, n1)\n",
    "    head2 = arrayToLinkedList(list2, n2)\n",
    "    \n",
    "    obj = Solution()\n",
    "    assert linkedListToArray(obj.mergeTwoLists(head1,head2)) == [1,1,2,3,4,4]"
   ]
  },
  {
   "cell_type": "markdown",
   "id": "76c463b9",
   "metadata": {},
   "source": [
    "### Reorder List"
   ]
  },
  {
   "cell_type": "code",
   "execution_count": 7,
   "id": "a1fc190f",
   "metadata": {},
   "outputs": [],
   "source": [
    "class Solution:\n",
    "    def reorderList(self, head: ListNode) -> ListNode:\n",
    "        # find middle\n",
    "        slow, fast = head, head.next\n",
    "        while fast and fast.next:\n",
    "            slow = slow.next\n",
    "            fast = fast.next.next\n",
    "\n",
    "        # reverse second half\n",
    "        second = slow.next\n",
    "        prev = slow.next = None\n",
    "        while second:\n",
    "            tmp = second.next\n",
    "            second.next = prev\n",
    "            prev = second\n",
    "            second = tmp\n",
    "\n",
    "        # merge two halfs\n",
    "        first, second = head, prev\n",
    "        while second:\n",
    "            tmp1, tmp2 = first.next, second.next\n",
    "            first.next = second\n",
    "            second.next = tmp1\n",
    "            first, second = tmp1, tmp2\n",
    "            \n",
    "        return head"
   ]
  },
  {
   "cell_type": "code",
   "execution_count": 8,
   "id": "fd6e5c50",
   "metadata": {},
   "outputs": [
    {
     "name": "stdout",
     "output_type": "stream",
     "text": [
      "\u001b[32m.\u001b[0m\n",
      "\u001b[32m\u001b[32m\u001b[1m1 passed\u001b[0m\u001b[32m in 0.00s\u001b[0m\u001b[0m\n"
     ]
    }
   ],
   "source": [
    "%%ipytest -s\n",
    "def test1():\n",
    "    arr = [1,2,3,4,5]\n",
    "    n = len(arr)\n",
    "    head = arrayToLinkedList(arr, n)\n",
    "    obj = Solution()\n",
    "    assert linkedListToArray(obj.reorderList(head)) == [1,5,2,4,3]"
   ]
  },
  {
   "cell_type": "markdown",
   "id": "562ea2fb",
   "metadata": {},
   "source": [
    "### Remove Nth Node From End of List"
   ]
  },
  {
   "cell_type": "code",
   "execution_count": 10,
   "id": "9f85c926",
   "metadata": {},
   "outputs": [],
   "source": [
    "class Solution:\n",
    "    def removeNthFromEnd(self, head: ListNode, n: int) -> ListNode:\n",
    "        dummy = ListNode(0, head)\n",
    "        left = dummy\n",
    "        right = head\n",
    "\n",
    "        while n > 0:\n",
    "            right = right.next\n",
    "            n -= 1\n",
    "\n",
    "        while right:\n",
    "            left = left.next\n",
    "            right = right.next\n",
    "\n",
    "        # delete\n",
    "        left.next = left.next.next\n",
    "        return dummy.next"
   ]
  },
  {
   "cell_type": "code",
   "execution_count": 13,
   "id": "90cb4272",
   "metadata": {},
   "outputs": [
    {
     "name": "stdout",
     "output_type": "stream",
     "text": [
      "\u001b[32m.\u001b[0m\n",
      "\u001b[32m\u001b[32m\u001b[1m1 passed\u001b[0m\u001b[32m in 0.00s\u001b[0m\u001b[0m\n"
     ]
    }
   ],
   "source": [
    "%%ipytest -s\n",
    "def test1():\n",
    "    arr = [1,2,3,4,5]\n",
    "    k = 2\n",
    "    n = len(arr)\n",
    "    head = arrayToLinkedList(arr, n)\n",
    "    obj = Solution()\n",
    "    assert linkedListToArray(obj.removeNthFromEnd(head,k)) == [1,2,3,5]"
   ]
  },
  {
   "cell_type": "markdown",
   "id": "0f3b01a7",
   "metadata": {},
   "source": [
    "### Copy List With Random Pointer"
   ]
  },
  {
   "cell_type": "code",
   "execution_count": null,
   "id": "712cd1d0",
   "metadata": {},
   "outputs": [],
   "source": [
    "class Solution:\n",
    "    def copyRandomList(self, head: \"Node\") -> \"Node\":\n",
    "        oldToCopy = {None: None}\n",
    "\n",
    "        cur = head\n",
    "        while cur:\n",
    "            copy = Node(cur.val)\n",
    "            oldToCopy[cur] = copy\n",
    "            cur = cur.next\n",
    "        cur = head\n",
    "        while cur:\n",
    "            copy = oldToCopy[cur]\n",
    "            copy.next = oldToCopy[cur.next]\n",
    "            copy.random = oldToCopy[cur.random]\n",
    "            cur = cur.next\n",
    "        return oldToCopy[head]"
   ]
  },
  {
   "cell_type": "markdown",
   "id": "fb073db2",
   "metadata": {},
   "source": [
    "### Add Two Numbers"
   ]
  },
  {
   "cell_type": "code",
   "execution_count": 32,
   "id": "a5270a1b",
   "metadata": {},
   "outputs": [],
   "source": [
    "class Solution:\n",
    "    def addTwoNumbers(self, l1: ListNode, l2: ListNode) -> ListNode:\n",
    "        dummy = ListNode()\n",
    "        cur = dummy\n",
    "\n",
    "        carry = 0\n",
    "        while l1 or l2 or carry:\n",
    "            v1 = l1.val if l1 else 0\n",
    "            v2 = l2.val if l2 else 0\n",
    "\n",
    "            # new digit\n",
    "            val = v1 + v2 + carry\n",
    "            carry = val // 10\n",
    "            val = val % 10\n",
    "            cur.next = ListNode(val)\n",
    "\n",
    "            # update ptrs\n",
    "            cur = cur.next\n",
    "            l1 = l1.next if l1 else None\n",
    "            l2 = l2.next if l2 else None\n",
    "\n",
    "        return dummy.next"
   ]
  },
  {
   "cell_type": "code",
   "execution_count": 37,
   "id": "287f8fe0",
   "metadata": {},
   "outputs": [
    {
     "name": "stdout",
     "output_type": "stream",
     "text": [
      "\u001b[32m.\u001b[0m\n",
      "\u001b[32m\u001b[32m\u001b[1m1 passed\u001b[0m\u001b[32m in 0.00s\u001b[0m\u001b[0m\n"
     ]
    }
   ],
   "source": [
    "%%ipytest -s\n",
    "def test1():\n",
    "    l1 = [2,4,3]\n",
    "    l2 = [5,6,4]\n",
    "    \n",
    "    n1 = len(l1)\n",
    "    n2 = len(l2)\n",
    "    \n",
    "    head1 = arrayToLinkedList(l1, n1)\n",
    "    head2 = arrayToLinkedList(l2, n2)\n",
    "    \n",
    "    obj = Solution()\n",
    "    assert linkedListToArray(obj.addTwoNumbers(head1,head2)) == [7,0,8]"
   ]
  },
  {
   "cell_type": "markdown",
   "id": "a6e98ee2",
   "metadata": {},
   "source": [
    "### Linked List Cycle"
   ]
  },
  {
   "cell_type": "code",
   "execution_count": 7,
   "id": "b35bf417",
   "metadata": {},
   "outputs": [],
   "source": [
    "class Solution:\n",
    "    def hasCycle(self, head: ListNode) -> bool:\n",
    "        slow, fast = head, head\n",
    "\n",
    "        while fast and fast.next:\n",
    "            slow = slow.next\n",
    "            fast = fast.next.next\n",
    "            if slow == fast:\n",
    "                return True\n",
    "        return False"
   ]
  },
  {
   "cell_type": "markdown",
   "id": "19ffe266",
   "metadata": {},
   "source": [
    "### Linked List Cycle II"
   ]
  },
  {
   "cell_type": "code",
   "execution_count": null,
   "id": "127a49b3",
   "metadata": {},
   "outputs": [],
   "source": [
    "class Solution(object):\n",
    "    def detectCycle(self, head):\n",
    "        slow = fast = head\n",
    "        while fast and fast.next:\n",
    "            slow, fast = slow.next, fast.next.next\n",
    "            if slow == fast: break\n",
    "        else: return None  # if not (fast and fast.next): return None\n",
    "        while head != slow:\n",
    "            head, slow = head.next, slow.next\n",
    "        return head"
   ]
  },
  {
   "cell_type": "markdown",
   "id": "19fda486",
   "metadata": {},
   "source": [
    "### Find The Duplicate Number"
   ]
  },
  {
   "cell_type": "code",
   "execution_count": 39,
   "id": "57f1dbdd",
   "metadata": {},
   "outputs": [],
   "source": [
    "class Solution:\n",
    "    def findDuplicate(self, nums):\n",
    "        # Find the intersection point of the two runners.\n",
    "        tortoise = hare = nums[0]\n",
    "        while True:\n",
    "            \n",
    "            logging.getLogger().info('phase1 >> nums[{}]: {}, nums[nums[{}]]: {}'.format(tortoise, nums[tortoise], hare, nums[nums[hare]]))\n",
    "            \n",
    "            tortoise = nums[tortoise]\n",
    "            hare = nums[nums[hare]]\n",
    "            if tortoise == hare:\n",
    "                break\n",
    "        \n",
    "        # Find the \"entrance\" to the cycle.\n",
    "        tortoise = nums[0]\n",
    "        while tortoise != hare:\n",
    "            \n",
    "            logging.getLogger().info('phase2 >> nums[{}]: {}, nums[{}]: {}'.format(tortoise, nums[tortoise], hare, nums[hare]))\n",
    "            \n",
    "            tortoise = nums[tortoise]\n",
    "            hare = nums[hare]\n",
    "        \n",
    "        return hare"
   ]
  },
  {
   "cell_type": "code",
   "execution_count": 40,
   "id": "ed277203",
   "metadata": {},
   "outputs": [
    {
     "name": "stderr",
     "output_type": "stream",
     "text": [
      "INFO:root:phase1 >> nums[2]: 9, nums[nums[2]]: 1\n",
      "INFO:root:phase1 >> nums[9]: 1, nums[nums[1]]: 3\n",
      "INFO:root:phase1 >> nums[1]: 5, nums[nums[3]]: 8\n",
      "INFO:root:phase1 >> nums[5]: 3, nums[nums[8]]: 9\n",
      "INFO:root:phase1 >> nums[3]: 6, nums[nums[9]]: 5\n",
      "INFO:root:phase1 >> nums[6]: 8, nums[nums[5]]: 6\n",
      "INFO:root:phase1 >> nums[8]: 7, nums[nums[6]]: 7\n",
      "INFO:root:phase2 >> nums[2]: 9, nums[7]: 9\n"
     ]
    },
    {
     "name": "stdout",
     "output_type": "stream",
     "text": [
      "\u001b[32m.\u001b[0m\n",
      "\u001b[32m\u001b[32m\u001b[1m1 passed\u001b[0m\u001b[32m in 0.00s\u001b[0m\u001b[0m\n"
     ]
    }
   ],
   "source": [
    "%%ipytest -s\n",
    "def test1():\n",
    "    arr = [2,5,9,6,9,3,8,9,7,1]\n",
    "    obj = Solution()\n",
    "    assert obj.findDuplicate(arr) == 9"
   ]
  },
  {
   "cell_type": "code",
   "execution_count": null,
   "id": "634f711a",
   "metadata": {},
   "outputs": [],
   "source": []
  },
  {
   "cell_type": "code",
   "execution_count": null,
   "id": "f148afba",
   "metadata": {},
   "outputs": [],
   "source": []
  }
 ],
 "metadata": {
  "kernelspec": {
   "display_name": "Python 3.9 (tensorflow)",
   "language": "python",
   "name": "tensorflow"
  },
  "language_info": {
   "codemirror_mode": {
    "name": "ipython",
    "version": 3
   },
   "file_extension": ".py",
   "mimetype": "text/x-python",
   "name": "python",
   "nbconvert_exporter": "python",
   "pygments_lexer": "ipython3",
   "version": "3.9.13"
  }
 },
 "nbformat": 4,
 "nbformat_minor": 5
}
