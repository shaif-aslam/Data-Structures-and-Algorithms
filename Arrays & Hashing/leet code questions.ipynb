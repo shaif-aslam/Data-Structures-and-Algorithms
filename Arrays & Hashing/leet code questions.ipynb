{
 "cells": [
  {
   "cell_type": "code",
   "execution_count": 1,
   "id": "d3daefd4",
   "metadata": {},
   "outputs": [],
   "source": [
    "import pytest\n",
    "import ipytest\n",
    "import logging\n",
    "logging.basicConfig(level=logging.NOTSET)\n",
    "ipytest.autoconfig()"
   ]
  },
  {
   "cell_type": "markdown",
   "id": "9aedc5d9",
   "metadata": {},
   "source": [
    "### Contains Duplicate"
   ]
  },
  {
   "cell_type": "code",
   "execution_count": 2,
   "id": "08aa93dd",
   "metadata": {},
   "outputs": [],
   "source": [
    "class Solution:\n",
    "    def containsDuplicate(self, nums: list[int]) -> bool:\n",
    "        hashset = set()\n",
    "        \n",
    "        for n in nums:\n",
    "            logging.getLogger().info('n: {0}, hashset: {1}'.format(n, hashset))\n",
    "            if n in hashset:\n",
    "                return True\n",
    "            hashset.add(n)\n",
    "        return False"
   ]
  },
  {
   "cell_type": "code",
   "execution_count": 3,
   "id": "453886f0",
   "metadata": {},
   "outputs": [
    {
     "name": "stderr",
     "output_type": "stream",
     "text": [
      "INFO:root:n: 1, hashset: set()\n",
      "INFO:root:n: 2, hashset: {1}\n",
      "INFO:root:n: 3, hashset: {1, 2}\n",
      "INFO:root:n: 1, hashset: {1, 2, 3}\n"
     ]
    },
    {
     "name": "stdout",
     "output_type": "stream",
     "text": [
      "\u001b[32m.\u001b[0m\n",
      "\u001b[32m\u001b[32m\u001b[1m1 passed\u001b[0m\u001b[32m in 0.00s\u001b[0m\u001b[0m\n"
     ]
    }
   ],
   "source": [
    "%%ipytest -s\n",
    "def test1():\n",
    "    arr = [1,2,3,1]\n",
    "    obj = Solution()\n",
    "    assert obj.containsDuplicate(arr) == True"
   ]
  },
  {
   "cell_type": "markdown",
   "id": "71729a82",
   "metadata": {},
   "source": [
    "### Valid Anagram "
   ]
  },
  {
   "cell_type": "code",
   "execution_count": 4,
   "id": "b6b047b7",
   "metadata": {},
   "outputs": [],
   "source": [
    "class Solution:\n",
    "    def isAnagram(self, s: str, t: str) -> bool:\n",
    "        if len(s) != len(t):\n",
    "            return False\n",
    "\n",
    "        countS, countT = {}, {}\n",
    "\n",
    "        for i in range(len(s)):\n",
    "            countS[s[i]] = 1 + countS.get(s[i], 0)\n",
    "            countT[t[i]] = 1 + countT.get(t[i], 0)\n",
    "            \n",
    "        logging.getLogger().info('countS: {}'.format(countS))\n",
    "        logging.getLogger().info('countT: {}'.format(countS))\n",
    "        \n",
    "        return countS == countT"
   ]
  },
  {
   "cell_type": "code",
   "execution_count": 5,
   "id": "cbbdf336",
   "metadata": {},
   "outputs": [
    {
     "name": "stderr",
     "output_type": "stream",
     "text": [
      "INFO:root:countS: {'a': 3, 'n': 1, 'g': 1, 'r': 1, 'm': 1}\n",
      "INFO:root:countT: {'a': 3, 'n': 1, 'g': 1, 'r': 1, 'm': 1}\n"
     ]
    },
    {
     "name": "stdout",
     "output_type": "stream",
     "text": [
      "\u001b[32m.\u001b[0m\n",
      "\u001b[32m\u001b[32m\u001b[1m1 passed\u001b[0m\u001b[32m in 0.00s\u001b[0m\u001b[0m\n"
     ]
    }
   ],
   "source": [
    "%%ipytest -s\n",
    "def test1():\n",
    "    s = \"anagram\"\n",
    "    t = \"nagaram\"\n",
    "    obj = Solution()\n",
    "    assert obj.isAnagram(s,t) == True"
   ]
  },
  {
   "cell_type": "markdown",
   "id": "8fbbb340",
   "metadata": {},
   "source": [
    "### Two Sum "
   ]
  },
  {
   "cell_type": "code",
   "execution_count": 6,
   "id": "150c4c1d",
   "metadata": {},
   "outputs": [],
   "source": [
    "class Solution:\n",
    "    def twoSum(self, nums: list[int], target: int) -> list[int]:\n",
    "        prevMap = {}  # val -> index\n",
    "\n",
    "        for i, n in enumerate(nums):\n",
    "            diff = target - n\n",
    "            logging.getLogger().info('i: {0}, prevMap: {1}, diff: {2}'.format(i, prevMap, diff))\n",
    "            if diff in prevMap:\n",
    "                return [prevMap[diff], i]\n",
    "            prevMap[n] = i"
   ]
  },
  {
   "cell_type": "code",
   "execution_count": 7,
   "id": "41e399c5",
   "metadata": {},
   "outputs": [
    {
     "name": "stderr",
     "output_type": "stream",
     "text": [
      "INFO:root:i: 0, prevMap: {}, diff: 15\n",
      "INFO:root:i: 1, prevMap: {2: 0}, diff: 10\n",
      "INFO:root:i: 2, prevMap: {2: 0, 7: 1}, diff: 6\n",
      "INFO:root:i: 3, prevMap: {2: 0, 7: 1, 11: 2}, diff: 2\n"
     ]
    },
    {
     "name": "stdout",
     "output_type": "stream",
     "text": [
      "\u001b[32m.\u001b[0m\n",
      "\u001b[32m\u001b[32m\u001b[1m1 passed\u001b[0m\u001b[32m in 0.00s\u001b[0m\u001b[0m\n"
     ]
    }
   ],
   "source": [
    "%%ipytest -s\n",
    "def test1():\n",
    "    arr = [2,7,11,15]\n",
    "    target = 17\n",
    "    obj = Solution()\n",
    "    assert obj.twoSum(arr,target) == [0,3]"
   ]
  },
  {
   "cell_type": "markdown",
   "id": "126cc027",
   "metadata": {},
   "source": [
    "### Group Anagrams "
   ]
  },
  {
   "cell_type": "code",
   "execution_count": 8,
   "id": "efbb8e32",
   "metadata": {},
   "outputs": [],
   "source": [
    "import collections\n",
    "class Solution:\n",
    "    def groupAnagrams(self, strs: list[str]) -> list[list[str]]:\n",
    "        ans = collections.defaultdict(list)\n",
    "\n",
    "        for s in strs:\n",
    "            count = [0] * 26\n",
    "            for c in s:\n",
    "                count[ord(c) - ord(\"a\")] += 1\n",
    "            ans[tuple(count)].append(s)\n",
    "            logging.getLogger().info('s: {0}, ans: {1}'.format(s, ans.values()))\n",
    "        return list(ans.values())"
   ]
  },
  {
   "cell_type": "code",
   "execution_count": 9,
   "id": "dc49c192",
   "metadata": {},
   "outputs": [
    {
     "name": "stderr",
     "output_type": "stream",
     "text": [
      "INFO:root:s: eat, ans: dict_values([['eat']])\n",
      "INFO:root:s: tea, ans: dict_values([['eat', 'tea']])\n",
      "INFO:root:s: tan, ans: dict_values([['eat', 'tea'], ['tan']])\n",
      "INFO:root:s: ate, ans: dict_values([['eat', 'tea', 'ate'], ['tan']])\n",
      "INFO:root:s: nat, ans: dict_values([['eat', 'tea', 'ate'], ['tan', 'nat']])\n",
      "INFO:root:s: bat, ans: dict_values([['eat', 'tea', 'ate'], ['tan', 'nat'], ['bat']])\n"
     ]
    },
    {
     "name": "stdout",
     "output_type": "stream",
     "text": [
      "\u001b[32m.\u001b[0m\n",
      "\u001b[32m\u001b[32m\u001b[1m1 passed\u001b[0m\u001b[32m in 0.00s\u001b[0m\u001b[0m\n"
     ]
    }
   ],
   "source": [
    "%%ipytest -s\n",
    "def test1():\n",
    "    arr = [\"eat\",\"tea\",\"tan\",\"ate\",\"nat\",\"bat\"]\n",
    "    obj = Solution()\n",
    "    assert obj.groupAnagrams(arr) == [[\"eat\",\"tea\",\"ate\"],[\"tan\",\"nat\"],[\"bat\"]]"
   ]
  },
  {
   "cell_type": "markdown",
   "id": "44f73c69",
   "metadata": {},
   "source": [
    "### Top K Frequent Elements "
   ]
  },
  {
   "cell_type": "code",
   "execution_count": 10,
   "id": "44db62dc",
   "metadata": {},
   "outputs": [],
   "source": [
    "class Solution:\n",
    "    def topKFrequent(self, nums: list[int], k: int) -> list[int]:\n",
    "        count = {}\n",
    "        freq = [[] for i in range(len(nums) + 1)]\n",
    "\n",
    "        for n in nums:\n",
    "            count[n] = 1 + count.get(n, 0)\n",
    "        for n, c in count.items():\n",
    "            freq[c].append(n)\n",
    "\n",
    "        res = []\n",
    "        for i in range(len(freq) - 1, 0, -1):\n",
    "            for n in freq[i]:\n",
    "                res.append(n)\n",
    "                logging.getLogger().info('i: {0}, n: {1}, res: {2}, freq: {3}'.format(i, n, res, freq))\n",
    "                if len(res) == k:\n",
    "                    return res"
   ]
  },
  {
   "cell_type": "code",
   "execution_count": 11,
   "id": "c1605bf3",
   "metadata": {},
   "outputs": [
    {
     "name": "stderr",
     "output_type": "stream",
     "text": [
      "INFO:root:i: 3, n: 1, res: [1], freq: [[], [3], [2], [1], [], [], []]\n",
      "INFO:root:i: 2, n: 2, res: [1, 2], freq: [[], [3], [2], [1], [], [], []]\n",
      "INFO:root:i: 1, n: 3, res: [1, 2, 3], freq: [[], [3], [2], [1], [], [], []]\n"
     ]
    },
    {
     "name": "stdout",
     "output_type": "stream",
     "text": [
      "\u001b[32m.\u001b[0m\n",
      "\u001b[32m\u001b[32m\u001b[1m1 passed\u001b[0m\u001b[32m in 0.00s\u001b[0m\u001b[0m\n"
     ]
    }
   ],
   "source": [
    "%%ipytest -s\n",
    "def test1():\n",
    "    arr = [1,1,1,2,2,3]\n",
    "    k = 3\n",
    "    obj = Solution()\n",
    "    assert obj.topKFrequent(arr,k) == [1,2,3]"
   ]
  },
  {
   "cell_type": "markdown",
   "id": "85c4515e",
   "metadata": {},
   "source": [
    "### Product of Array Except Self"
   ]
  },
  {
   "cell_type": "code",
   "execution_count": 12,
   "id": "e6a5f220",
   "metadata": {},
   "outputs": [],
   "source": [
    "class Solution:\n",
    "    def productExceptSelf(self, nums: list[int]) -> list[int]:\n",
    "        res = [1] * (len(nums))\n",
    "\n",
    "        prefix = 1\n",
    "        for i in range(len(nums)):\n",
    "            logging.getLogger().info('i: {0}, {1} * {2}, res: {3}'.format(i, prefix,nums[i], res))\n",
    "            res[i] *= prefix\n",
    "            prefix *= nums[i]\n",
    "        postfix = 1\n",
    "        for i in range(len(nums) - 1, -1, -1):\n",
    "            logging.getLogger().info('i: {0}, {1} * {2}, res: {3}'.format(i, postfix,nums[i], res))\n",
    "            res[i] *= postfix\n",
    "            postfix *= nums[i]\n",
    "        return res"
   ]
  },
  {
   "cell_type": "code",
   "execution_count": 13,
   "id": "08174efa",
   "metadata": {},
   "outputs": [
    {
     "name": "stderr",
     "output_type": "stream",
     "text": [
      "INFO:root:i: 0, 1 * 1, res: [1, 1, 1, 1]\n",
      "INFO:root:i: 1, 1 * 2, res: [1, 1, 1, 1]\n",
      "INFO:root:i: 2, 2 * 3, res: [1, 1, 1, 1]\n",
      "INFO:root:i: 3, 6 * 4, res: [1, 1, 2, 1]\n",
      "INFO:root:i: 3, 1 * 4, res: [1, 1, 2, 6]\n",
      "INFO:root:i: 2, 4 * 3, res: [1, 1, 2, 6]\n",
      "INFO:root:i: 1, 12 * 2, res: [1, 1, 8, 6]\n",
      "INFO:root:i: 0, 24 * 1, res: [1, 12, 8, 6]\n"
     ]
    },
    {
     "name": "stdout",
     "output_type": "stream",
     "text": [
      "\u001b[32m.\u001b[0m\n",
      "\u001b[32m\u001b[32m\u001b[1m1 passed\u001b[0m\u001b[32m in 0.00s\u001b[0m\u001b[0m\n"
     ]
    }
   ],
   "source": [
    "%%ipytest -s\n",
    "def test1():\n",
    "    arr = [1,2,3,4]\n",
    "    obj = Solution()\n",
    "    assert obj.productExceptSelf(arr) == [24,12,8,6]"
   ]
  },
  {
   "cell_type": "markdown",
   "id": "093c6656",
   "metadata": {},
   "source": [
    "### Valid Sudoku"
   ]
  },
  {
   "cell_type": "code",
   "execution_count": 14,
   "id": "a24e625e",
   "metadata": {},
   "outputs": [],
   "source": [
    "class Solution:\n",
    "    def isValidSudoku(self, board: list[list[str]]) -> bool:\n",
    "        cols = collections.defaultdict(set)\n",
    "        rows = collections.defaultdict(set)\n",
    "        squares = collections.defaultdict(set)  # key = (r /3, c /3)\n",
    "\n",
    "        for r in range(9):\n",
    "            for c in range(9):\n",
    "                if board[r][c] == \".\":\n",
    "                    continue\n",
    "                if (\n",
    "                    board[r][c] in rows[r]\n",
    "                    or board[r][c] in cols[c]\n",
    "                    or board[r][c] in squares[(r // 3, c // 3)]\n",
    "                ):\n",
    "                    return False\n",
    "                cols[c].add(board[r][c])\n",
    "                rows[r].add(board[r][c])\n",
    "                squares[(r // 3, c // 3)].add(board[r][c])\n",
    "\n",
    "        return True"
   ]
  },
  {
   "cell_type": "markdown",
   "id": "a256e71a",
   "metadata": {},
   "source": [
    "### Encode And Decode Strings"
   ]
  },
  {
   "cell_type": "code",
   "execution_count": 15,
   "id": "bc8b91bd",
   "metadata": {},
   "outputs": [],
   "source": [
    "class Solution:\n",
    "    \"\"\"\n",
    "    @param: strs: a list of strings\n",
    "    @return: encodes a list of strings to a single string.\n",
    "    \"\"\"\n",
    "\n",
    "    def encode(self, strs):\n",
    "        res = \"\"\n",
    "        for s in strs:\n",
    "            res += str(len(s)) + \"#\" + s\n",
    "        return res\n",
    "\n",
    "    \"\"\"\n",
    "    @param: s: A string\n",
    "    @return: decodes a single string to a list of strings\n",
    "    \"\"\"\n",
    "\n",
    "    def decode(self, s):\n",
    "        res, i = [], 0\n",
    "\n",
    "        while i < len(s):\n",
    "            j = i\n",
    "            while s[j] != \"#\":\n",
    "                j += 1\n",
    "            length = int(s[i:j])\n",
    "            res.append(s[j + 1 : j + 1 + length])\n",
    "            i = j + 1 + length\n",
    "        return res"
   ]
  },
  {
   "cell_type": "markdown",
   "id": "91e19ee1",
   "metadata": {},
   "source": [
    "### Longest Consecutive Sequence"
   ]
  },
  {
   "cell_type": "code",
   "execution_count": 16,
   "id": "15c8167d",
   "metadata": {},
   "outputs": [],
   "source": [
    "class Solution:\n",
    "    def longestConsecutive(self, nums: list[int]) -> int:\n",
    "        numSet = set(nums)\n",
    "        longest = 0\n",
    "\n",
    "        for n in nums:\n",
    "            # check if its the start of a sequence\n",
    "            logging.getLogger().info('(n - 1): {0}'.format((n - 1)))\n",
    "            if (n - 1) not in numSet:\n",
    "                length = 1\n",
    "                while (n + length) in numSet:\n",
    "                    length += 1\n",
    "                longest = max(length, longest)\n",
    "                logging.getLogger().info('length: {0}, longest: {1}'.format(length, longest))\n",
    "        return longest"
   ]
  },
  {
   "cell_type": "code",
   "execution_count": 17,
   "id": "368ca0a2",
   "metadata": {},
   "outputs": [
    {
     "name": "stderr",
     "output_type": "stream",
     "text": [
      "INFO:root:(n - 1): 99\n",
      "INFO:root:length: 1, longest: 1\n",
      "INFO:root:(n - 1): 3\n",
      "INFO:root:(n - 1): 199\n",
      "INFO:root:length: 1, longest: 1\n",
      "INFO:root:(n - 1): 0\n",
      "INFO:root:length: 4, longest: 4\n",
      "INFO:root:(n - 1): 2\n",
      "INFO:root:(n - 1): 1\n"
     ]
    },
    {
     "name": "stdout",
     "output_type": "stream",
     "text": [
      "\u001b[32m.\u001b[0m\n",
      "\u001b[32m\u001b[32m\u001b[1m1 passed\u001b[0m\u001b[32m in 0.01s\u001b[0m\u001b[0m\n"
     ]
    }
   ],
   "source": [
    "%%ipytest -s\n",
    "def test1():\n",
    "    arr = [100,4,200,1,3,2]\n",
    "    obj = Solution()\n",
    "    assert obj.longestConsecutive(arr) == 4"
   ]
  },
  {
   "cell_type": "code",
   "execution_count": null,
   "id": "63bbf74a",
   "metadata": {},
   "outputs": [],
   "source": []
  }
 ],
 "metadata": {
  "kernelspec": {
   "display_name": "Python 3.9 (tensorflow)",
   "language": "python",
   "name": "tensorflow"
  },
  "language_info": {
   "codemirror_mode": {
    "name": "ipython",
    "version": 3
   },
   "file_extension": ".py",
   "mimetype": "text/x-python",
   "name": "python",
   "nbconvert_exporter": "python",
   "pygments_lexer": "ipython3",
   "version": "3.9.13"
  }
 },
 "nbformat": 4,
 "nbformat_minor": 5
}
