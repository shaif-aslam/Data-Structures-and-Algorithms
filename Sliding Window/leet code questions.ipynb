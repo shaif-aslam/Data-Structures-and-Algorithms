{
 "cells": [
  {
   "cell_type": "code",
   "execution_count": 1,
   "id": "e63bd277",
   "metadata": {},
   "outputs": [],
   "source": [
    "import pytest\n",
    "import ipytest\n",
    "import logging\n",
    "logging.basicConfig(level=logging.NOTSET)\n",
    "ipytest.autoconfig()"
   ]
  },
  {
   "cell_type": "markdown",
   "id": "7757686b",
   "metadata": {},
   "source": [
    "### Best Time to Buy And Sell Stock"
   ]
  },
  {
   "cell_type": "code",
   "execution_count": 2,
   "id": "1d913c5a",
   "metadata": {},
   "outputs": [],
   "source": [
    "class Solution:\n",
    "    def maxProfit(self, prices: list[int]) -> int:\n",
    "        res = 0\n",
    "        \n",
    "        lowest = prices[0]\n",
    "        for price in prices:\n",
    "            logging.getLogger().info('res: {}, price: {}, lowest: {}'.format(res, price, lowest))\n",
    "            if price < lowest:\n",
    "                lowest = price\n",
    "            res = max(res, price - lowest)\n",
    "        return res"
   ]
  },
  {
   "cell_type": "code",
   "execution_count": 3,
   "id": "fdbfbd20",
   "metadata": {},
   "outputs": [
    {
     "name": "stderr",
     "output_type": "stream",
     "text": [
      "INFO:root:res: 0, price: 7, lowest: 7\n",
      "INFO:root:res: 0, price: 1, lowest: 7\n",
      "INFO:root:res: 0, price: 5, lowest: 1\n",
      "INFO:root:res: 4, price: 3, lowest: 1\n",
      "INFO:root:res: 4, price: 6, lowest: 1\n",
      "INFO:root:res: 5, price: 4, lowest: 1\n"
     ]
    },
    {
     "name": "stdout",
     "output_type": "stream",
     "text": [
      "\u001b[32m.\u001b[0m\n",
      "\u001b[32m\u001b[32m\u001b[1m1 passed\u001b[0m\u001b[32m in 0.00s\u001b[0m\u001b[0m\n"
     ]
    }
   ],
   "source": [
    "%%ipytest -s\n",
    "def test1():\n",
    "    prices = [7,1,5,3,6,4]\n",
    "    obj = Solution()\n",
    "    assert obj.maxProfit(prices) == 5"
   ]
  },
  {
   "cell_type": "markdown",
   "id": "09c25220",
   "metadata": {},
   "source": [
    "### Longest Substring Without Repeating Characters"
   ]
  },
  {
   "cell_type": "code",
   "execution_count": 4,
   "id": "b2b157c9",
   "metadata": {},
   "outputs": [],
   "source": [
    "class Solution:\n",
    "    def lengthOfLongestSubstring(self, s: str) -> int:\n",
    "        charSet = set()\n",
    "        l = 0\n",
    "        res = 0\n",
    "\n",
    "        for r in range(len(s)):\n",
    "            \n",
    "            logging.getLogger().info('r+: {}'.format(s[l:r+1]))\n",
    "            \n",
    "            while s[r] in charSet:\n",
    "                charSet.remove(s[l])\n",
    "                l += 1\n",
    "                \n",
    "                logging.getLogger().info('l-: {}'.format(s[l:r+1]))\n",
    "                \n",
    "            charSet.add(s[r])\n",
    "            res = max(res, r - l + 1)\n",
    "            logging.getLogger().info('charSet: {}, res: {}'.format(charSet, res))\n",
    "        return res"
   ]
  },
  {
   "cell_type": "code",
   "execution_count": 5,
   "id": "eff4c723",
   "metadata": {},
   "outputs": [
    {
     "name": "stderr",
     "output_type": "stream",
     "text": [
      "INFO:root:r+: a\n",
      "INFO:root:charSet: {'a'}, res: 1\n",
      "INFO:root:r+: ab\n",
      "INFO:root:charSet: {'a', 'b'}, res: 2\n",
      "INFO:root:r+: abc\n",
      "INFO:root:charSet: {'a', 'b', 'c'}, res: 3\n",
      "INFO:root:r+: abca\n",
      "INFO:root:l-: bca\n",
      "INFO:root:charSet: {'a', 'b', 'c'}, res: 3\n",
      "INFO:root:r+: bcab\n",
      "INFO:root:l-: cab\n",
      "INFO:root:charSet: {'a', 'c', 'b'}, res: 3\n",
      "INFO:root:r+: cabc\n",
      "INFO:root:l-: abc\n",
      "INFO:root:charSet: {'c', 'a', 'b'}, res: 3\n",
      "INFO:root:r+: abcb\n",
      "INFO:root:l-: bcb\n",
      "INFO:root:l-: cb\n",
      "INFO:root:charSet: {'c', 'b'}, res: 3\n",
      "INFO:root:r+: cbb\n",
      "INFO:root:l-: bb\n",
      "INFO:root:l-: b\n",
      "INFO:root:charSet: {'b'}, res: 3\n"
     ]
    },
    {
     "name": "stdout",
     "output_type": "stream",
     "text": [
      "\u001b[32m.\u001b[0m\n",
      "\u001b[32m\u001b[32m\u001b[1m1 passed\u001b[0m\u001b[32m in 0.01s\u001b[0m\u001b[0m\n"
     ]
    }
   ],
   "source": [
    "%%ipytest -s\n",
    "def test1():\n",
    "    s = \"abcabcbb\"\n",
    "    obj = Solution()\n",
    "    assert obj.lengthOfLongestSubstring(s) == 3"
   ]
  },
  {
   "cell_type": "markdown",
   "id": "4a106276",
   "metadata": {},
   "source": [
    "### Longest Repeating Character Replacement"
   ]
  },
  {
   "cell_type": "code",
   "execution_count": 6,
   "id": "8b4c3594",
   "metadata": {},
   "outputs": [],
   "source": [
    "class Solution:\n",
    "    def characterReplacement(self, s: str, k: int) -> int:\n",
    "        count = {}\n",
    "        res = 0\n",
    "\n",
    "        l = 0\n",
    "        maxf = 0\n",
    "        for r in range(len(s)):\n",
    "            count[s[r]] = 1 + count.get(s[r], 0)\n",
    "            maxf = max(maxf, count[s[r]])\n",
    "\n",
    "            logging.getLogger().info('r+: {}, maxf: {}, count: {}'.format(s[l:r+1], maxf, count))\n",
    "            \n",
    "            if (r - l + 1) - maxf > k:\n",
    "                count[s[l]] -= 1\n",
    "                l += 1\n",
    "                logging.getLogger().info('l-: {}, maxf: {}, count: {}'.format(s[l:r+1], maxf, count))\n",
    "\n",
    "            res = max(res, r - l + 1)\n",
    "        return res"
   ]
  },
  {
   "cell_type": "code",
   "execution_count": 7,
   "id": "3814b978",
   "metadata": {},
   "outputs": [
    {
     "name": "stderr",
     "output_type": "stream",
     "text": [
      "INFO:root:r+: A, maxf: 1, count: {'A': 1}\n",
      "INFO:root:r+: AA, maxf: 2, count: {'A': 2}\n",
      "INFO:root:r+: AAB, maxf: 2, count: {'A': 2, 'B': 1}\n",
      "INFO:root:r+: AABA, maxf: 3, count: {'A': 3, 'B': 1}\n",
      "INFO:root:r+: AABAB, maxf: 3, count: {'A': 3, 'B': 2}\n",
      "INFO:root:l-: ABAB, maxf: 3, count: {'A': 2, 'B': 2}\n",
      "INFO:root:r+: ABABB, maxf: 3, count: {'A': 2, 'B': 3}\n",
      "INFO:root:l-: BABB, maxf: 3, count: {'A': 1, 'B': 3}\n",
      "INFO:root:r+: BABBA, maxf: 3, count: {'A': 2, 'B': 3}\n",
      "INFO:root:l-: ABBA, maxf: 3, count: {'A': 2, 'B': 2}\n"
     ]
    },
    {
     "name": "stdout",
     "output_type": "stream",
     "text": [
      "\u001b[32m.\u001b[0m\n",
      "\u001b[32m\u001b[32m\u001b[1m1 passed\u001b[0m\u001b[32m in 0.01s\u001b[0m\u001b[0m\n"
     ]
    }
   ],
   "source": [
    "%%ipytest -s\n",
    "def test1():\n",
    "    s = \"AABABBA\"\n",
    "    k = 1\n",
    "    obj = Solution()\n",
    "    assert obj.characterReplacement(s,k) == 4"
   ]
  },
  {
   "cell_type": "markdown",
   "id": "07fc7348",
   "metadata": {},
   "source": [
    "### Permutation In String"
   ]
  },
  {
   "cell_type": "code",
   "execution_count": 8,
   "id": "846a2102",
   "metadata": {},
   "outputs": [],
   "source": [
    "class Solution:\n",
    "    def checkInclusion(self, s1: str, s2: str) -> bool:\n",
    "        if len(s1) > len(s2):\n",
    "            return False\n",
    "\n",
    "        s1Count, s2Count = [0] * 26, [0] * 26\n",
    "        for i in range(len(s1)):\n",
    "            s1Count[ord(s1[i]) - ord(\"a\")] += 1\n",
    "            s2Count[ord(s2[i]) - ord(\"a\")] += 1\n",
    "\n",
    "        matches = 0\n",
    "        for i in range(26):\n",
    "            matches += 1 if s1Count[i] == s2Count[i] else 0\n",
    "\n",
    "        l = 0\n",
    "        for r in range(len(s1), len(s2)):\n",
    "            \n",
    "            if matches == 26:\n",
    "                return True\n",
    "\n",
    "            index = ord(s2[r]) - ord(\"a\")\n",
    "            s2Count[index] += 1\n",
    "            if s1Count[index] == s2Count[index]:\n",
    "                matches += 1\n",
    "            elif s1Count[index] + 1 == s2Count[index]:\n",
    "                matches -= 1\n",
    "                \n",
    "            logging.getLogger().info('r+:{}, matches:{},s2Count:{}'.format(s2[l:r+1], matches, s2Count))\n",
    "\n",
    "            index = ord(s2[l]) - ord(\"a\")\n",
    "            s2Count[index] -= 1\n",
    "            if s1Count[index] == s2Count[index]:\n",
    "                matches += 1\n",
    "            elif s1Count[index] - 1 == s2Count[index]:\n",
    "                matches -= 1\n",
    "            l += 1\n",
    "            \n",
    "            logging.getLogger().info('l-:{}, matches:{},s2Count:{}'.format(s2[l:r+1], matches, s2Count))\n",
    "            \n",
    "        return matches == 26"
   ]
  },
  {
   "cell_type": "code",
   "execution_count": 9,
   "id": "051629c3",
   "metadata": {},
   "outputs": [
    {
     "name": "stderr",
     "output_type": "stream",
     "text": [
      "INFO:root:r+:eid, matches:21,s2Count:[0, 0, 0, 1, 1, 0, 0, 0, 1, 0, 0, 0, 0, 0, 0, 0, 0, 0, 0, 0, 0, 0, 0, 0, 0, 0]\n",
      "INFO:root:l-:id, matches:22,s2Count:[0, 0, 0, 1, 0, 0, 0, 0, 1, 0, 0, 0, 0, 0, 0, 0, 0, 0, 0, 0, 0, 0, 0, 0, 0, 0]\n",
      "INFO:root:r+:idb, matches:23,s2Count:[0, 1, 0, 1, 0, 0, 0, 0, 1, 0, 0, 0, 0, 0, 0, 0, 0, 0, 0, 0, 0, 0, 0, 0, 0, 0]\n",
      "INFO:root:l-:db, matches:24,s2Count:[0, 1, 0, 1, 0, 0, 0, 0, 0, 0, 0, 0, 0, 0, 0, 0, 0, 0, 0, 0, 0, 0, 0, 0, 0, 0]\n",
      "INFO:root:r+:dba, matches:25,s2Count:[1, 1, 0, 1, 0, 0, 0, 0, 0, 0, 0, 0, 0, 0, 0, 0, 0, 0, 0, 0, 0, 0, 0, 0, 0, 0]\n",
      "INFO:root:l-:ba, matches:26,s2Count:[1, 1, 0, 0, 0, 0, 0, 0, 0, 0, 0, 0, 0, 0, 0, 0, 0, 0, 0, 0, 0, 0, 0, 0, 0, 0]\n"
     ]
    },
    {
     "name": "stdout",
     "output_type": "stream",
     "text": [
      "\u001b[32m.\u001b[0m\n",
      "\u001b[32m\u001b[32m\u001b[1m1 passed\u001b[0m\u001b[32m in 0.00s\u001b[0m\u001b[0m\n"
     ]
    }
   ],
   "source": [
    "%%ipytest -s\n",
    "def test1():\n",
    "    s1 = \"ab\"\n",
    "    s2 = \"eidbaooo\"\n",
    "    obj = Solution()\n",
    "    assert obj.checkInclusion(s1,s2) == True"
   ]
  },
  {
   "cell_type": "markdown",
   "id": "135f26ea",
   "metadata": {},
   "source": [
    "### Minimum Window Substring"
   ]
  },
  {
   "cell_type": "code",
   "execution_count": 10,
   "id": "f6f0a4e7",
   "metadata": {},
   "outputs": [],
   "source": [
    "class Solution:\n",
    "    def minWindow(self, s: str, t: str) -> str:\n",
    "        if t == \"\":\n",
    "            return \"\"\n",
    "\n",
    "        countT, window = {}, {}\n",
    "        for c in t:\n",
    "            countT[c] = 1 + countT.get(c, 0)\n",
    "\n",
    "        have, need = 0, len(countT)\n",
    "        res, resLen = [-1, -1], float(\"infinity\")\n",
    "        l = 0\n",
    "        for r in range(len(s)):\n",
    "            c = s[r]\n",
    "            window[c] = 1 + window.get(c, 0)\n",
    "\n",
    "            if c in countT and window[c] == countT[c]:\n",
    "                have += 1\n",
    "                \n",
    "            logging.getLogger().info('r+: {}, window: {}, have: {}'.format(s[l : r + 1], window, have))\n",
    "\n",
    "            while have == need:\n",
    "                # update our result\n",
    "                if (r - l + 1) < resLen:\n",
    "                    res = [l, r]\n",
    "                    resLen = r - l + 1\n",
    "                    \n",
    "                logging.getLogger().info('l-: {}, window: {}, have: {}'.format(s[l : r + 1], window, have))\n",
    "                \n",
    "                # pop from the left of our window\n",
    "                window[s[l]] -= 1\n",
    "                if s[l] in countT and window[s[l]] < countT[s[l]]:\n",
    "                    have -= 1\n",
    "                l += 1\n",
    "                \n",
    "                \n",
    "        l, r = res\n",
    "        return s[l : r + 1] if resLen != float(\"infinity\") else \"\""
   ]
  },
  {
   "cell_type": "code",
   "execution_count": 11,
   "id": "bafcb378",
   "metadata": {},
   "outputs": [
    {
     "name": "stderr",
     "output_type": "stream",
     "text": [
      "INFO:root:r+: A, window: {'A': 1}, have: 1\n",
      "INFO:root:r+: AD, window: {'A': 1, 'D': 1}, have: 1\n",
      "INFO:root:r+: ADO, window: {'A': 1, 'D': 1, 'O': 1}, have: 1\n",
      "INFO:root:r+: ADOB, window: {'A': 1, 'D': 1, 'O': 1, 'B': 1}, have: 2\n",
      "INFO:root:r+: ADOBE, window: {'A': 1, 'D': 1, 'O': 1, 'B': 1, 'E': 1}, have: 2\n",
      "INFO:root:r+: ADOBEC, window: {'A': 1, 'D': 1, 'O': 1, 'B': 1, 'E': 1, 'C': 1}, have: 3\n",
      "INFO:root:l-: ADOBEC, window: {'A': 1, 'D': 1, 'O': 1, 'B': 1, 'E': 1, 'C': 1}, have: 3\n",
      "INFO:root:r+: DOBECO, window: {'A': 0, 'D': 1, 'O': 2, 'B': 1, 'E': 1, 'C': 1}, have: 2\n",
      "INFO:root:r+: DOBECOD, window: {'A': 0, 'D': 2, 'O': 2, 'B': 1, 'E': 1, 'C': 1}, have: 2\n",
      "INFO:root:r+: DOBECODE, window: {'A': 0, 'D': 2, 'O': 2, 'B': 1, 'E': 2, 'C': 1}, have: 2\n",
      "INFO:root:r+: DOBECODEB, window: {'A': 0, 'D': 2, 'O': 2, 'B': 2, 'E': 2, 'C': 1}, have: 2\n",
      "INFO:root:r+: DOBECODEBA, window: {'A': 1, 'D': 2, 'O': 2, 'B': 2, 'E': 2, 'C': 1}, have: 3\n",
      "INFO:root:l-: DOBECODEBA, window: {'A': 1, 'D': 2, 'O': 2, 'B': 2, 'E': 2, 'C': 1}, have: 3\n",
      "INFO:root:l-: OBECODEBA, window: {'A': 1, 'D': 1, 'O': 2, 'B': 2, 'E': 2, 'C': 1}, have: 3\n",
      "INFO:root:l-: BECODEBA, window: {'A': 1, 'D': 1, 'O': 1, 'B': 2, 'E': 2, 'C': 1}, have: 3\n",
      "INFO:root:l-: ECODEBA, window: {'A': 1, 'D': 1, 'O': 1, 'B': 1, 'E': 2, 'C': 1}, have: 3\n",
      "INFO:root:l-: CODEBA, window: {'A': 1, 'D': 1, 'O': 1, 'B': 1, 'E': 1, 'C': 1}, have: 3\n",
      "INFO:root:r+: ODEBAN, window: {'A': 1, 'D': 1, 'O': 1, 'B': 1, 'E': 1, 'C': 0, 'N': 1}, have: 2\n",
      "INFO:root:r+: ODEBANC, window: {'A': 1, 'D': 1, 'O': 1, 'B': 1, 'E': 1, 'C': 1, 'N': 1}, have: 3\n",
      "INFO:root:l-: ODEBANC, window: {'A': 1, 'D': 1, 'O': 1, 'B': 1, 'E': 1, 'C': 1, 'N': 1}, have: 3\n",
      "INFO:root:l-: DEBANC, window: {'A': 1, 'D': 1, 'O': 0, 'B': 1, 'E': 1, 'C': 1, 'N': 1}, have: 3\n",
      "INFO:root:l-: EBANC, window: {'A': 1, 'D': 0, 'O': 0, 'B': 1, 'E': 1, 'C': 1, 'N': 1}, have: 3\n",
      "INFO:root:l-: BANC, window: {'A': 1, 'D': 0, 'O': 0, 'B': 1, 'E': 0, 'C': 1, 'N': 1}, have: 3\n"
     ]
    },
    {
     "name": "stdout",
     "output_type": "stream",
     "text": [
      "\u001b[32m.\u001b[0m\n",
      "\u001b[32m\u001b[32m\u001b[1m1 passed\u001b[0m\u001b[32m in 0.01s\u001b[0m\u001b[0m\n"
     ]
    }
   ],
   "source": [
    "%%ipytest -s\n",
    "def test1():\n",
    "    s = \"ADOBECODEBANC\"\n",
    "    t = \"ABC\"\n",
    "    obj = Solution()\n",
    "    assert obj.minWindow(s,t) == \"BANC\""
   ]
  },
  {
   "cell_type": "markdown",
   "id": "f86a83bf",
   "metadata": {},
   "source": [
    "### Sliding Window Maximum"
   ]
  },
  {
   "cell_type": "code",
   "execution_count": 12,
   "id": "6606b6de",
   "metadata": {},
   "outputs": [],
   "source": [
    "import collections\n",
    "class Solution:\n",
    "    def maxSlidingWindow(self, nums: list[int], k: int) -> list[int]:\n",
    "        output = []\n",
    "        q = collections.deque()  # index\n",
    "        l = r = 0\n",
    "        # O(n) O(n)\n",
    "        while r < len(nums):\n",
    "            # pop smaller values from q\n",
    "            logging.getLogger().info('r+: {}, q: {}, output: {}'.format(nums[l : r + 1], q, output))\n",
    "            while q and nums[q[-1]] < nums[r]:\n",
    "                q.pop()\n",
    "                logging.getLogger().info('q: {}'.format(q))\n",
    "\n",
    "            q.append(r)\n",
    "            \n",
    "            # remove left val from window\n",
    "            if l > q[0]:\n",
    "                q.popleft()\n",
    "\n",
    "            if (r + 1) >= k:\n",
    "                output.append(nums[q[0]])\n",
    "                l += 1\n",
    "                \n",
    "                logging.getLogger().info('l-: {}, q: {}, output+: {}'.format(nums[l : r + 1], q, output))\n",
    "\n",
    "            r += 1\n",
    "\n",
    "        return output"
   ]
  },
  {
   "cell_type": "code",
   "execution_count": 13,
   "id": "ae05958a",
   "metadata": {},
   "outputs": [
    {
     "name": "stderr",
     "output_type": "stream",
     "text": [
      "INFO:root:r+: [1], q: deque([]), output: []\n",
      "INFO:root:r+: [1, 3], q: deque([0]), output: []\n",
      "INFO:root:q: deque([])\n",
      "INFO:root:r+: [1, 3, -1], q: deque([1]), output: []\n",
      "INFO:root:l-: [3, -1], q: deque([1, 2]), output+: [3]\n",
      "INFO:root:r+: [3, -1, -3], q: deque([1, 2]), output: [3]\n",
      "INFO:root:l-: [-1, -3], q: deque([1, 2, 3]), output+: [3, 3]\n",
      "INFO:root:r+: [-1, -3, 5], q: deque([1, 2, 3]), output: [3, 3]\n",
      "INFO:root:q: deque([1, 2])\n",
      "INFO:root:q: deque([1])\n",
      "INFO:root:q: deque([])\n",
      "INFO:root:l-: [-3, 5], q: deque([4]), output+: [3, 3, 5]\n",
      "INFO:root:r+: [-3, 5, 3], q: deque([4]), output: [3, 3, 5]\n",
      "INFO:root:l-: [5, 3], q: deque([4, 5]), output+: [3, 3, 5, 5]\n",
      "INFO:root:r+: [5, 3, 6], q: deque([4, 5]), output: [3, 3, 5, 5]\n",
      "INFO:root:q: deque([4])\n",
      "INFO:root:q: deque([])\n",
      "INFO:root:l-: [3, 6], q: deque([6]), output+: [3, 3, 5, 5, 6]\n",
      "INFO:root:r+: [3, 6, 7], q: deque([6]), output: [3, 3, 5, 5, 6]\n",
      "INFO:root:q: deque([])\n",
      "INFO:root:l-: [6, 7], q: deque([7]), output+: [3, 3, 5, 5, 6, 7]\n"
     ]
    },
    {
     "name": "stdout",
     "output_type": "stream",
     "text": [
      "\u001b[32m.\u001b[0m\n",
      "\u001b[32m\u001b[32m\u001b[1m1 passed\u001b[0m\u001b[32m in 0.01s\u001b[0m\u001b[0m\n"
     ]
    }
   ],
   "source": [
    "%%ipytest -s\n",
    "def test1():\n",
    "    arr = [1,3,-1,-3,5,3,6,7]\n",
    "    k = 3\n",
    "    obj = Solution()\n",
    "    assert obj.maxSlidingWindow(arr,k) == [3,3,5,5,6,7]"
   ]
  },
  {
   "cell_type": "code",
   "execution_count": null,
   "id": "b2ad67c6",
   "metadata": {},
   "outputs": [],
   "source": []
  }
 ],
 "metadata": {
  "kernelspec": {
   "display_name": "Python 3.9 (tensorflow)",
   "language": "python",
   "name": "tensorflow"
  },
  "language_info": {
   "codemirror_mode": {
    "name": "ipython",
    "version": 3
   },
   "file_extension": ".py",
   "mimetype": "text/x-python",
   "name": "python",
   "nbconvert_exporter": "python",
   "pygments_lexer": "ipython3",
   "version": "3.9.13"
  }
 },
 "nbformat": 4,
 "nbformat_minor": 5
}
