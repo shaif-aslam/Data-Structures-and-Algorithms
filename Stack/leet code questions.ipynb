{
 "cells": [
  {
   "cell_type": "code",
   "execution_count": 1,
   "id": "b06f7007",
   "metadata": {},
   "outputs": [],
   "source": [
    "import pytest\n",
    "import ipytest\n",
    "import logging\n",
    "logging.basicConfig(level=logging.NOTSET)\n",
    "ipytest.autoconfig()"
   ]
  },
  {
   "cell_type": "markdown",
   "id": "85efa227",
   "metadata": {},
   "source": [
    "### Valid Parentheses"
   ]
  },
  {
   "cell_type": "code",
   "execution_count": 2,
   "id": "027de2c9",
   "metadata": {},
   "outputs": [],
   "source": [
    "class Solution:\n",
    "    def isValid(self, s: str) -> bool:\n",
    "        Map = {\")\": \"(\", \"]\": \"[\", \"}\": \"{\"}\n",
    "        stack = []\n",
    "\n",
    "        for c in s:\n",
    "            if c not in Map:\n",
    "                stack.append(c)\n",
    "                \n",
    "                logging.getLogger().info('push: {0}'.format(c))\n",
    "                \n",
    "                continue\n",
    "            if not stack or stack[-1] != Map[c]:\n",
    "                return False\n",
    "            stack.pop()\n",
    "            \n",
    "            logging.getLogger().info('pop: {0}'.format(c))\n",
    "\n",
    "        return not stack"
   ]
  },
  {
   "cell_type": "code",
   "execution_count": 3,
   "id": "d40141a6",
   "metadata": {},
   "outputs": [
    {
     "name": "stderr",
     "output_type": "stream",
     "text": [
      "INFO:root:push: (\n",
      "INFO:root:pop: )\n",
      "INFO:root:push: [\n",
      "INFO:root:pop: ]\n",
      "INFO:root:push: {\n",
      "INFO:root:pop: }\n"
     ]
    },
    {
     "name": "stdout",
     "output_type": "stream",
     "text": [
      "\u001b[32m.\u001b[0m\n",
      "\u001b[32m\u001b[32m\u001b[1m1 passed\u001b[0m\u001b[32m in 0.00s\u001b[0m\u001b[0m\n"
     ]
    }
   ],
   "source": [
    "%%ipytest -s\n",
    "def test1():\n",
    "    s = \"()[]{}\"\n",
    "    obj = Solution()\n",
    "    assert obj.isValid(s) == True"
   ]
  },
  {
   "cell_type": "markdown",
   "id": "1979b070",
   "metadata": {},
   "source": [
    "### Min Stack"
   ]
  },
  {
   "cell_type": "code",
   "execution_count": 4,
   "id": "4380f3a2",
   "metadata": {},
   "outputs": [],
   "source": [
    "class MinStack:\n",
    "    def __init__(self):\n",
    "        self.stack = []\n",
    "        self.minStack = []\n",
    "\n",
    "    def push(self, val: int) -> None:\n",
    "        self.stack.append(val)\n",
    "        val = min(val, self.minStack[-1] if self.minStack else val)\n",
    "        self.minStack.append(val)\n",
    "\n",
    "    def pop(self) -> None:\n",
    "        self.stack.pop()\n",
    "        self.minStack.pop()\n",
    "\n",
    "    def top(self) -> int:\n",
    "        return self.stack[-1]\n",
    "\n",
    "    def getMin(self) -> int:\n",
    "        return self.minStack[-1]"
   ]
  },
  {
   "cell_type": "code",
   "execution_count": 5,
   "id": "e7242611",
   "metadata": {},
   "outputs": [
    {
     "name": "stdout",
     "output_type": "stream",
     "text": [
      "\u001b[32m.\u001b[0m\n",
      "\u001b[32m\u001b[32m\u001b[1m1 passed\u001b[0m\u001b[32m in 0.00s\u001b[0m\u001b[0m\n"
     ]
    }
   ],
   "source": [
    "%%ipytest -s\n",
    "def test1():\n",
    "    obj = MinStack()\n",
    "    obj.push(-2);\n",
    "    obj.push(0);\n",
    "    obj.push(-3);\n",
    "    obj.getMin(); # return -3\n",
    "    obj.pop();\n",
    "    obj.top();    # return 0\n",
    "    obj.getMin(); # return -2\n",
    "    assert obj.getMin() == -2"
   ]
  },
  {
   "cell_type": "markdown",
   "id": "0ac05230",
   "metadata": {},
   "source": [
    "### Evaluate Reverse Polish Notation"
   ]
  },
  {
   "cell_type": "code",
   "execution_count": 6,
   "id": "7477e5a6",
   "metadata": {},
   "outputs": [],
   "source": [
    "class Solution:\n",
    "    def evalRPN(self, tokens: list[str]) -> int:\n",
    "        stack = []\n",
    "        for c in tokens:\n",
    "            if c == \"+\":\n",
    "                stack.append(stack.pop() + stack.pop())\n",
    "            elif c == \"-\":\n",
    "                a, b = stack.pop(), stack.pop()\n",
    "                stack.append(b - a)\n",
    "            elif c == \"*\":\n",
    "                stack.append(stack.pop() * stack.pop())\n",
    "            elif c == \"/\":\n",
    "                a, b = stack.pop(), stack.pop()\n",
    "                stack.append(int(b / a))\n",
    "            else:\n",
    "                stack.append(int(c))\n",
    "                \n",
    "            logging.getLogger().info('c: {0}, stack: {1}'.format(c, stack))\n",
    "            \n",
    "        return stack[0]"
   ]
  },
  {
   "cell_type": "code",
   "execution_count": 7,
   "id": "e3b4b427",
   "metadata": {},
   "outputs": [
    {
     "name": "stderr",
     "output_type": "stream",
     "text": [
      "INFO:root:c: 10, stack: [10]\n",
      "INFO:root:c: 6, stack: [10, 6]\n",
      "INFO:root:c: 9, stack: [10, 6, 9]\n",
      "INFO:root:c: 3, stack: [10, 6, 9, 3]\n",
      "INFO:root:c: +, stack: [10, 6, 12]\n",
      "INFO:root:c: -11, stack: [10, 6, 12, -11]\n",
      "INFO:root:c: *, stack: [10, 6, -132]\n",
      "INFO:root:c: /, stack: [10, 0]\n",
      "INFO:root:c: *, stack: [0]\n",
      "INFO:root:c: 17, stack: [0, 17]\n",
      "INFO:root:c: +, stack: [17]\n",
      "INFO:root:c: 5, stack: [17, 5]\n",
      "INFO:root:c: +, stack: [22]\n"
     ]
    },
    {
     "name": "stdout",
     "output_type": "stream",
     "text": [
      "\u001b[32m.\u001b[0m\n",
      "\u001b[32m\u001b[32m\u001b[1m1 passed\u001b[0m\u001b[32m in 0.01s\u001b[0m\u001b[0m\n"
     ]
    }
   ],
   "source": [
    "%%ipytest -s\n",
    "def test1():\n",
    "    arr = [\"10\",\"6\",\"9\",\"3\",\"+\",\"-11\",\"*\",\"/\",\"*\",\"17\",\"+\",\"5\",\"+\"]\n",
    "    obj = Solution()\n",
    "    assert obj.evalRPN(arr) == 22"
   ]
  },
  {
   "cell_type": "markdown",
   "id": "381994e3",
   "metadata": {},
   "source": [
    "### Generate Parentheses"
   ]
  },
  {
   "cell_type": "code",
   "execution_count": 8,
   "id": "45604086",
   "metadata": {},
   "outputs": [],
   "source": [
    "class Solution:\n",
    "    def generateParenthesis(self, n: int) -> list[str]:\n",
    "        stack = []\n",
    "        res = []\n",
    "\n",
    "        def backtrack(openN, closedN):\n",
    "            \n",
    "            logging.getLogger().info('stack: {0}, res: {1}'.format(stack, res))\n",
    "            \n",
    "            if openN == closedN == n:\n",
    "                res.append(\"\".join(stack))\n",
    "                return\n",
    "\n",
    "            if openN < n:\n",
    "                stack.append(\"(\")\n",
    "                backtrack(openN + 1, closedN)\n",
    "                stack.pop()\n",
    "            if closedN < openN:\n",
    "                stack.append(\")\")\n",
    "                backtrack(openN, closedN + 1)\n",
    "                stack.pop()\n",
    "\n",
    "        backtrack(0, 0)\n",
    "        return res"
   ]
  },
  {
   "cell_type": "code",
   "execution_count": 9,
   "id": "20bb6971",
   "metadata": {},
   "outputs": [
    {
     "name": "stderr",
     "output_type": "stream",
     "text": [
      "INFO:root:stack: [], res: []\n",
      "INFO:root:stack: ['('], res: []\n",
      "INFO:root:stack: ['(', '('], res: []\n",
      "INFO:root:stack: ['(', '(', '('], res: []\n",
      "INFO:root:stack: ['(', '(', '(', ')'], res: []\n",
      "INFO:root:stack: ['(', '(', '(', ')', ')'], res: []\n",
      "INFO:root:stack: ['(', '(', '(', ')', ')', ')'], res: []\n",
      "INFO:root:stack: ['(', '(', ')'], res: ['((()))']\n",
      "INFO:root:stack: ['(', '(', ')', '('], res: ['((()))']\n",
      "INFO:root:stack: ['(', '(', ')', '(', ')'], res: ['((()))']\n",
      "INFO:root:stack: ['(', '(', ')', '(', ')', ')'], res: ['((()))']\n",
      "INFO:root:stack: ['(', '(', ')', ')'], res: ['((()))', '(()())']\n",
      "INFO:root:stack: ['(', '(', ')', ')', '('], res: ['((()))', '(()())']\n",
      "INFO:root:stack: ['(', '(', ')', ')', '(', ')'], res: ['((()))', '(()())']\n",
      "INFO:root:stack: ['(', ')'], res: ['((()))', '(()())', '(())()']\n",
      "INFO:root:stack: ['(', ')', '('], res: ['((()))', '(()())', '(())()']\n",
      "INFO:root:stack: ['(', ')', '(', '('], res: ['((()))', '(()())', '(())()']\n",
      "INFO:root:stack: ['(', ')', '(', '(', ')'], res: ['((()))', '(()())', '(())()']\n",
      "INFO:root:stack: ['(', ')', '(', '(', ')', ')'], res: ['((()))', '(()())', '(())()']\n",
      "INFO:root:stack: ['(', ')', '(', ')'], res: ['((()))', '(()())', '(())()', '()(())']\n",
      "INFO:root:stack: ['(', ')', '(', ')', '('], res: ['((()))', '(()())', '(())()', '()(())']\n",
      "INFO:root:stack: ['(', ')', '(', ')', '(', ')'], res: ['((()))', '(()())', '(())()', '()(())']\n"
     ]
    },
    {
     "name": "stdout",
     "output_type": "stream",
     "text": [
      "\u001b[32m.\u001b[0m\n",
      "\u001b[32m\u001b[32m\u001b[1m1 passed\u001b[0m\u001b[32m in 0.01s\u001b[0m\u001b[0m\n"
     ]
    }
   ],
   "source": [
    "%%ipytest -s\n",
    "def test1():\n",
    "    n = 3\n",
    "    obj = Solution()\n",
    "    assert obj.generateParenthesis(n) == [\"((()))\",\"(()())\",\"(())()\",\"()(())\",\"()()()\"]"
   ]
  },
  {
   "cell_type": "markdown",
   "id": "926a8b88",
   "metadata": {},
   "source": [
    "### Daily Temperatures"
   ]
  },
  {
   "cell_type": "code",
   "execution_count": 10,
   "id": "475c9c9a",
   "metadata": {},
   "outputs": [],
   "source": [
    "class Solution:\n",
    "    def dailyTemperatures(self, temperatures: list[int]) -> list[int]:\n",
    "        res = [0] * len(temperatures)\n",
    "        stack = []  # pair: [temp, index]\n",
    "\n",
    "        for i, t in enumerate(temperatures):\n",
    "            \n",
    "            logging.getLogger().info('stack: {0}, res: {1}'.format(stack, res))\n",
    "            \n",
    "            while stack and t > stack[-1][0]:\n",
    "                stackT, stackInd = stack.pop()\n",
    "                res[stackInd] = i - stackInd\n",
    "            stack.append((t, i))\n",
    "        return res"
   ]
  },
  {
   "cell_type": "code",
   "execution_count": 11,
   "id": "d9e39095",
   "metadata": {},
   "outputs": [
    {
     "name": "stderr",
     "output_type": "stream",
     "text": [
      "INFO:root:stack: [], res: [0, 0, 0, 0, 0, 0, 0, 0]\n",
      "INFO:root:stack: [(73, 0)], res: [0, 0, 0, 0, 0, 0, 0, 0]\n",
      "INFO:root:stack: [(74, 1)], res: [1, 0, 0, 0, 0, 0, 0, 0]\n",
      "INFO:root:stack: [(75, 2)], res: [1, 1, 0, 0, 0, 0, 0, 0]\n",
      "INFO:root:stack: [(75, 2), (71, 3)], res: [1, 1, 0, 0, 0, 0, 0, 0]\n",
      "INFO:root:stack: [(75, 2), (71, 3), (69, 4)], res: [1, 1, 0, 0, 0, 0, 0, 0]\n",
      "INFO:root:stack: [(75, 2), (72, 5)], res: [1, 1, 0, 2, 1, 0, 0, 0]\n",
      "INFO:root:stack: [(76, 6)], res: [1, 1, 4, 2, 1, 1, 0, 0]\n"
     ]
    },
    {
     "name": "stdout",
     "output_type": "stream",
     "text": [
      "\u001b[32m.\u001b[0m\n",
      "\u001b[32m\u001b[32m\u001b[1m1 passed\u001b[0m\u001b[32m in 0.00s\u001b[0m\u001b[0m\n"
     ]
    }
   ],
   "source": [
    "%%ipytest -s\n",
    "def test1():\n",
    "    arr = [73,74,75,71,69,72,76,73]\n",
    "    obj = Solution()\n",
    "    assert obj.dailyTemperatures(arr) == [1,1,4,2,1,1,0,0]"
   ]
  },
  {
   "cell_type": "markdown",
   "id": "da42079d",
   "metadata": {},
   "source": [
    "### Car Fleet"
   ]
  },
  {
   "cell_type": "code",
   "execution_count": 12,
   "id": "8dbf4192",
   "metadata": {},
   "outputs": [],
   "source": [
    "class Solution:\n",
    "    def carFleet(self, target: int, position: list[int], speed: list[int]) -> int:\n",
    "        pair = [(p, s) for p, s in zip(position, speed)]\n",
    "        pair.sort(reverse=True)\n",
    "        stack = []\n",
    "        for p, s in pair:  # Reverse Sorted Order\n",
    "            stack.append((target - p) / s)\n",
    "            \n",
    "            logging.getLogger().info('(target - p) / s: ({0} - {1}) / {2}, stack: {3}'.format(target, p, s, stack))\n",
    "            \n",
    "            if len(stack) >= 2 and stack[-1] <= stack[-2]:\n",
    "                stack.pop()\n",
    "                \n",
    "        return len(stack)"
   ]
  },
  {
   "cell_type": "code",
   "execution_count": 13,
   "id": "491c0834",
   "metadata": {},
   "outputs": [
    {
     "name": "stderr",
     "output_type": "stream",
     "text": [
      "INFO:root:(target - p) / s: (12 - 10) / 2, stack: [1.0]\n",
      "INFO:root:(target - p) / s: (12 - 8) / 4, stack: [1.0, 1.0]\n",
      "INFO:root:(target - p) / s: (12 - 5) / 1, stack: [1.0, 7.0]\n",
      "INFO:root:(target - p) / s: (12 - 3) / 3, stack: [1.0, 7.0, 3.0]\n",
      "INFO:root:(target - p) / s: (12 - 0) / 1, stack: [1.0, 7.0, 12.0]\n"
     ]
    },
    {
     "name": "stdout",
     "output_type": "stream",
     "text": [
      "\u001b[32m.\u001b[0m\n",
      "\u001b[32m\u001b[32m\u001b[1m1 passed\u001b[0m\u001b[32m in 0.00s\u001b[0m\u001b[0m\n"
     ]
    }
   ],
   "source": [
    "%%ipytest -s\n",
    "def test1():\n",
    "    target = 12\n",
    "    position = [10,8,0,5,3]\n",
    "    speed = [2,4,1,1,3]\n",
    "    obj = Solution()\n",
    "    assert obj.carFleet(target, position, speed) == 3"
   ]
  },
  {
   "cell_type": "markdown",
   "id": "27f2a88b",
   "metadata": {},
   "source": [
    "### Largest Rectangle In Histogram"
   ]
  },
  {
   "cell_type": "code",
   "execution_count": 14,
   "id": "fbed8068",
   "metadata": {},
   "outputs": [],
   "source": [
    "class Solution:\n",
    "    def largestRectangleArea(self, heights: list[int]) -> int:\n",
    "        maxArea = 0\n",
    "        stack = []  # pair: (index, height)\n",
    "\n",
    "        for i, h in enumerate(heights):\n",
    "            start = i\n",
    "            while stack and stack[-1][1] > h:\n",
    "                index, height = stack.pop()\n",
    "                maxArea = max(maxArea, height * (i - index))\n",
    "                \n",
    "                logging.getLogger().info('pop: ({0},{1}), stack: {2}, maxArea: {3}'.format(index, height, stack, maxArea))\n",
    "                \n",
    "                start = index\n",
    "            stack.append((start, h))\n",
    "            \n",
    "            logging.getLogger().info('push: ({0},{1}), stack: {2}'.format(start, h, stack))\n",
    "\n",
    "        for i, h in stack:\n",
    "            \n",
    "            logging.getLogger().info('max(maxArea, h * (len(heights) - i)): max({0}, {1} * ({2} - {3}))'.format(maxArea, h, len(heights), i))\n",
    "            \n",
    "            maxArea = max(maxArea, h * (len(heights) - i))\n",
    "            \n",
    "        return maxArea"
   ]
  },
  {
   "cell_type": "code",
   "execution_count": 15,
   "id": "7856876f",
   "metadata": {},
   "outputs": [
    {
     "name": "stderr",
     "output_type": "stream",
     "text": [
      "INFO:root:push: (0,2), stack: [(0, 2)]\n",
      "INFO:root:pop: (0,2), stack: [], maxArea: 2\n",
      "INFO:root:push: (0,1), stack: [(0, 1)]\n",
      "INFO:root:push: (2,5), stack: [(0, 1), (2, 5)]\n",
      "INFO:root:push: (3,6), stack: [(0, 1), (2, 5), (3, 6)]\n",
      "INFO:root:pop: (3,6), stack: [(0, 1), (2, 5)], maxArea: 6\n",
      "INFO:root:pop: (2,5), stack: [(0, 1)], maxArea: 10\n",
      "INFO:root:push: (2,2), stack: [(0, 1), (2, 2)]\n",
      "INFO:root:push: (5,3), stack: [(0, 1), (2, 2), (5, 3)]\n",
      "INFO:root:max(maxArea, h * (len(heights) - i)): max(10, 1 * (6 - 0))\n",
      "INFO:root:max(maxArea, h * (len(heights) - i)): max(10, 2 * (6 - 2))\n",
      "INFO:root:max(maxArea, h * (len(heights) - i)): max(10, 3 * (6 - 5))\n"
     ]
    },
    {
     "name": "stdout",
     "output_type": "stream",
     "text": [
      "\u001b[32m.\u001b[0m\n",
      "\u001b[32m\u001b[32m\u001b[1m1 passed\u001b[0m\u001b[32m in 0.01s\u001b[0m\u001b[0m\n"
     ]
    }
   ],
   "source": [
    "%%ipytest -s\n",
    "def test1():\n",
    "    arr = [2,1,5,6,2,3]\n",
    "    obj = Solution()\n",
    "    assert obj.largestRectangleArea(arr) == 10"
   ]
  },
  {
   "cell_type": "code",
   "execution_count": null,
   "id": "010c37e0",
   "metadata": {},
   "outputs": [],
   "source": []
  }
 ],
 "metadata": {
  "kernelspec": {
   "display_name": "Python 3.9 (tensorflow)",
   "language": "python",
   "name": "tensorflow"
  },
  "language_info": {
   "codemirror_mode": {
    "name": "ipython",
    "version": 3
   },
   "file_extension": ".py",
   "mimetype": "text/x-python",
   "name": "python",
   "nbconvert_exporter": "python",
   "pygments_lexer": "ipython3",
   "version": "3.9.13"
  }
 },
 "nbformat": 4,
 "nbformat_minor": 5
}
