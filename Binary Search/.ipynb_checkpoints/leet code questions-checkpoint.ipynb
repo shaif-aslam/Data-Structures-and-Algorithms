{
 "cells": [
  {
   "cell_type": "code",
   "execution_count": 1,
   "id": "4680bb57",
   "metadata": {},
   "outputs": [],
   "source": [
    "import pytest\n",
    "import ipytest\n",
    "import logging\n",
    "logging.basicConfig(level=logging.NOTSET)\n",
    "ipytest.autoconfig()"
   ]
  },
  {
   "cell_type": "markdown",
   "id": "a32b8df8",
   "metadata": {},
   "source": [
    "### Binary Search"
   ]
  },
  {
   "cell_type": "code",
   "execution_count": 10,
   "id": "c40cb502",
   "metadata": {},
   "outputs": [],
   "source": [
    "class Solution:\n",
    "    def search(self, nums: list[int], target: int) -> int:\n",
    "        l, r = 0, len(nums) - 1\n",
    "\n",
    "        while l <= r:\n",
    "            m = l + ((r - l) // 2)  # (l + r) // 2 can lead to overflow\n",
    "            \n",
    "            logging.getLogger().info('nums[m]: {0}, l: {1}, r: {2}'.format(nums[m], l , r))\n",
    "            \n",
    "            if nums[m] > target:\n",
    "                r = m - 1\n",
    "            elif nums[m] < target:\n",
    "                l = m + 1\n",
    "            else:\n",
    "                return m\n",
    "        return -1"
   ]
  },
  {
   "cell_type": "code",
   "execution_count": 14,
   "id": "7a6951de",
   "metadata": {},
   "outputs": [
    {
     "name": "stderr",
     "output_type": "stream",
     "text": [
      "INFO:root:nums[m]: 3, l: 0, r: 5\n",
      "INFO:root:nums[m]: 9, l: 3, r: 5\n"
     ]
    },
    {
     "name": "stdout",
     "output_type": "stream",
     "text": [
      "\u001b[32m.\u001b[0m\n",
      "\u001b[32m\u001b[32m\u001b[1m1 passed\u001b[0m\u001b[32m in 0.00s\u001b[0m\u001b[0m\n"
     ]
    }
   ],
   "source": [
    "%%ipytest -s\n",
    "def test1():\n",
    "    arr1 = [-1,0,3,5,9,12]\n",
    "    target1 = 9\n",
    "    arr2 = [-1,0,3,5,9,12]\n",
    "    target2 = 2\n",
    "    obj = Solution()\n",
    "    assert obj.search(arr1, target1) == 4\n",
    "#     assert obj.search(arr2, target2) == -1"
   ]
  },
  {
   "cell_type": "markdown",
   "id": "3146a538",
   "metadata": {},
   "source": [
    "### Search a 2D Matrix"
   ]
  },
  {
   "cell_type": "code",
   "execution_count": 20,
   "id": "9e1e4dba",
   "metadata": {},
   "outputs": [],
   "source": [
    "class Solution:\n",
    "    def searchMatrix(self, matrix: list[list[int]], target: int) -> bool:\n",
    "        ROWS, COLS = len(matrix), len(matrix[0])\n",
    "\n",
    "        top, bot = 0, ROWS - 1\n",
    "        while top <= bot:\n",
    "            row = (top + bot) // 2\n",
    "            \n",
    "            logging.getLogger().info('row: {0}, top: {1}, bot: {2}'.format(row, top , bot))\n",
    "            \n",
    "            if target > matrix[row][-1]:\n",
    "                top = row + 1\n",
    "            elif target < matrix[row][0]:\n",
    "                bot = row - 1\n",
    "            else:\n",
    "                break\n",
    "\n",
    "        if not (top <= bot):\n",
    "            return False\n",
    "        row = (top + bot) // 2\n",
    "        l, r = 0, COLS - 1\n",
    "        while l <= r:\n",
    "            m = (l + r) // 2\n",
    "            \n",
    "            logging.getLogger().info('matrix[row][m]: {0}, l: {1}, r: {2}'.format(matrix[row][m], l , r))\n",
    "            \n",
    "            if target > matrix[row][m]:\n",
    "                l = m + 1\n",
    "            elif target < matrix[row][m]:\n",
    "                r = m - 1\n",
    "            else:\n",
    "                return True\n",
    "        return False"
   ]
  },
  {
   "cell_type": "code",
   "execution_count": 23,
   "id": "f9e6ae69",
   "metadata": {},
   "outputs": [
    {
     "name": "stderr",
     "output_type": "stream",
     "text": [
      "INFO:root:row: 1, top: 0, bot: 2\n",
      "INFO:root:row: 2, top: 2, bot: 2\n",
      "INFO:root:matrix[row][m]: 30, l: 0, r: 3\n",
      "INFO:root:matrix[row][m]: 34, l: 2, r: 3\n"
     ]
    },
    {
     "name": "stdout",
     "output_type": "stream",
     "text": [
      "\u001b[32m.\u001b[0m\n",
      "\u001b[32m\u001b[32m\u001b[1m1 passed\u001b[0m\u001b[32m in 0.00s\u001b[0m\u001b[0m\n"
     ]
    }
   ],
   "source": [
    "%%ipytest -s\n",
    "def test1():\n",
    "    matrix = [[1,3,5,7],[10,11,16,20],[23,30,34,60]]\n",
    "    target = 34\n",
    "    obj = Solution()\n",
    "    assert obj.searchMatrix(matrix, target) == True"
   ]
  },
  {
   "cell_type": "markdown",
   "id": "04916a8a",
   "metadata": {},
   "source": [
    "### Koko Eating Bananas"
   ]
  },
  {
   "cell_type": "code",
   "execution_count": 48,
   "id": "cd866a72",
   "metadata": {},
   "outputs": [],
   "source": [
    "import math\n",
    "class Solution:\n",
    "    def minEatingSpeed(self, piles: list[int], h: int) -> int:\n",
    "        l, r = 1, max(piles)\n",
    "        res = max(piles)\n",
    "\n",
    "        while l <= r:\n",
    "            k = (l + r) // 2\n",
    "\n",
    "            totalTime = 0\n",
    "            for p in piles:\n",
    "                totalTime += math.ceil(p / k)\n",
    "                \n",
    "                logging.getLogger().info('p / k: {0}/{1}, l: {2}, r: {3}, totalTime: {4}'.format(p, k, l , r, totalTime))\n",
    "            \n",
    "            if totalTime <= h:\n",
    "                res = min(res, k)\n",
    "                r = k - 1\n",
    "            else:\n",
    "                l = k + 1\n",
    "                \n",
    "            logging.getLogger().info('totalTime <= h: {0}, l: {1}, r: {2}, res: {3}'.format(totalTime <= h, l, r, res))\n",
    "            \n",
    "        return res"
   ]
  },
  {
   "cell_type": "code",
   "execution_count": 49,
   "id": "724d3e6d",
   "metadata": {},
   "outputs": [
    {
     "name": "stderr",
     "output_type": "stream",
     "text": [
      "INFO:root:p / k: 30/15, l: 1, r: 30, totalTime: 2\n",
      "INFO:root:p / k: 11/15, l: 1, r: 30, totalTime: 3\n",
      "INFO:root:p / k: 23/15, l: 1, r: 30, totalTime: 5\n",
      "INFO:root:p / k: 4/15, l: 1, r: 30, totalTime: 6\n",
      "INFO:root:p / k: 20/15, l: 1, r: 30, totalTime: 8\n",
      "INFO:root:totalTime <= h: False, l: 16, r: 30, res: 30\n",
      "INFO:root:p / k: 30/23, l: 16, r: 30, totalTime: 2\n",
      "INFO:root:p / k: 11/23, l: 16, r: 30, totalTime: 3\n",
      "INFO:root:p / k: 23/23, l: 16, r: 30, totalTime: 4\n",
      "INFO:root:p / k: 4/23, l: 16, r: 30, totalTime: 5\n",
      "INFO:root:p / k: 20/23, l: 16, r: 30, totalTime: 6\n",
      "INFO:root:totalTime <= h: True, l: 16, r: 22, res: 23\n",
      "INFO:root:p / k: 30/19, l: 16, r: 22, totalTime: 2\n",
      "INFO:root:p / k: 11/19, l: 16, r: 22, totalTime: 3\n",
      "INFO:root:p / k: 23/19, l: 16, r: 22, totalTime: 5\n",
      "INFO:root:p / k: 4/19, l: 16, r: 22, totalTime: 6\n",
      "INFO:root:p / k: 20/19, l: 16, r: 22, totalTime: 8\n",
      "INFO:root:totalTime <= h: False, l: 20, r: 22, res: 23\n",
      "INFO:root:p / k: 30/21, l: 20, r: 22, totalTime: 2\n",
      "INFO:root:p / k: 11/21, l: 20, r: 22, totalTime: 3\n",
      "INFO:root:p / k: 23/21, l: 20, r: 22, totalTime: 5\n",
      "INFO:root:p / k: 4/21, l: 20, r: 22, totalTime: 6\n",
      "INFO:root:p / k: 20/21, l: 20, r: 22, totalTime: 7\n",
      "INFO:root:totalTime <= h: False, l: 22, r: 22, res: 23\n",
      "INFO:root:p / k: 30/22, l: 22, r: 22, totalTime: 2\n",
      "INFO:root:p / k: 11/22, l: 22, r: 22, totalTime: 3\n",
      "INFO:root:p / k: 23/22, l: 22, r: 22, totalTime: 5\n",
      "INFO:root:p / k: 4/22, l: 22, r: 22, totalTime: 6\n",
      "INFO:root:p / k: 20/22, l: 22, r: 22, totalTime: 7\n",
      "INFO:root:totalTime <= h: False, l: 23, r: 22, res: 23\n"
     ]
    },
    {
     "name": "stdout",
     "output_type": "stream",
     "text": [
      "\u001b[32m.\u001b[0m\n",
      "\u001b[32m\u001b[32m\u001b[1m1 passed\u001b[0m\u001b[32m in 0.01s\u001b[0m\u001b[0m\n"
     ]
    }
   ],
   "source": [
    "%%ipytest -s\n",
    "def test1():\n",
    "    piles = [30,11,23,4,20]\n",
    "    h = 6\n",
    "    obj = Solution()\n",
    "    assert obj.minEatingSpeed(piles, h) == 23"
   ]
  },
  {
   "cell_type": "markdown",
   "id": "3670c986",
   "metadata": {},
   "source": [
    "### Find Minimum In Rotated Sorted Array"
   ]
  },
  {
   "cell_type": "code",
   "execution_count": 56,
   "id": "5fa5d76d",
   "metadata": {},
   "outputs": [],
   "source": [
    "class Solution:\n",
    "    def findMin(self, nums: list[int]) -> int:\n",
    "        start , end = 0 ,len(nums) - 1 \n",
    "        curr_min = float(\"inf\")\n",
    "        \n",
    "        while start  <  end :\n",
    "            mid = (start + end ) // 2\n",
    "            curr_min = min(curr_min,nums[mid])\n",
    "            \n",
    "            logging.getLogger().info('mid: {0}, start: {1}, end: {2}, curr_min: {3}, nums[start]: {4}'.format(mid, start , end, curr_min, nums[start]))\n",
    "            \n",
    "            # right has the min \n",
    "            if nums[mid] > nums[end]:\n",
    "                start = mid + 1\n",
    "                \n",
    "            # left has the  min \n",
    "            else:\n",
    "                end = mid - 1 \n",
    "                \n",
    "        return min(curr_min,nums[start])"
   ]
  },
  {
   "cell_type": "code",
   "execution_count": 59,
   "id": "4dc18fff",
   "metadata": {},
   "outputs": [
    {
     "name": "stderr",
     "output_type": "stream",
     "text": [
      "INFO:root:mid: 3, start: 0, end: 6, curr_min: 7, nums[start]: 4\n",
      "INFO:root:mid: 5, start: 4, end: 6, curr_min: 1, nums[start]: 0\n"
     ]
    },
    {
     "name": "stdout",
     "output_type": "stream",
     "text": [
      "\u001b[32m.\u001b[0m\n",
      "\u001b[32m\u001b[32m\u001b[1m1 passed\u001b[0m\u001b[32m in 0.00s\u001b[0m\u001b[0m\n"
     ]
    }
   ],
   "source": [
    "%%ipytest -s\n",
    "def test1():\n",
    "    arr = [4,5,6,7,0,1,2]\n",
    "    obj = Solution()\n",
    "    assert obj.findMin(arr) == 0"
   ]
  },
  {
   "cell_type": "markdown",
   "id": "97de3973",
   "metadata": {},
   "source": [
    "### Search In Rotated Sorted Array"
   ]
  },
  {
   "cell_type": "code",
   "execution_count": 73,
   "id": "5e295237",
   "metadata": {},
   "outputs": [],
   "source": [
    "class Solution:\n",
    "    def search(self, nums: list[int], target: int) -> int:\n",
    "        l, r = 0, len(nums) - 1\n",
    "\n",
    "        while l <= r:\n",
    "            mid = (l + r) // 2\n",
    "            \n",
    "            logging.getLogger().info('mid: {0}, l: {1}, r: {2}'.format(mid, l, r))\n",
    "            logging.getLogger().info('nums[l] <= nums[mid]: {0}, target > nums[mid] or target < nums[l]: {1}'.format(nums[l] <= nums[mid], (target > nums[mid]) or (target < nums[l])))\n",
    "            \n",
    "            if target == nums[mid]:\n",
    "                return mid\n",
    "\n",
    "            # left sorted portion\n",
    "            if nums[l] <= nums[mid]:\n",
    "                if target > nums[mid] or target < nums[l]:\n",
    "                    l = mid + 1\n",
    "                else:\n",
    "                    r = mid - 1\n",
    "            # right sorted portion\n",
    "            else:\n",
    "                if target < nums[mid] or target > nums[r]:\n",
    "                    r = mid - 1\n",
    "                else:\n",
    "                    l = mid + 1\n",
    "            \n",
    "        return -1"
   ]
  },
  {
   "cell_type": "code",
   "execution_count": 74,
   "id": "b715bee2",
   "metadata": {},
   "outputs": [
    {
     "name": "stderr",
     "output_type": "stream",
     "text": [
      "INFO:root:mid: 3, l: 0, r: 6\n",
      "INFO:root:nums[l] <= nums[mid]: True, target > nums[mid] or target < nums[l]: True\n",
      "INFO:root:mid: 5, l: 4, r: 6\n",
      "INFO:root:nums[l] <= nums[mid]: True, target > nums[mid] or target < nums[l]: False\n",
      "INFO:root:mid: 4, l: 4, r: 4\n",
      "INFO:root:nums[l] <= nums[mid]: True, target > nums[mid] or target < nums[l]: False\n"
     ]
    },
    {
     "name": "stdout",
     "output_type": "stream",
     "text": [
      "\u001b[32m.\u001b[0m\n",
      "\u001b[32m\u001b[32m\u001b[1m1 passed\u001b[0m\u001b[32m in 0.01s\u001b[0m\u001b[0m\n"
     ]
    }
   ],
   "source": [
    "%%ipytest -s\n",
    "def test1():\n",
    "    arr = [4,5,6,7,0,1,2]\n",
    "    target = 0\n",
    "    obj = Solution()\n",
    "    assert obj.search(arr, target) == 4"
   ]
  },
  {
   "cell_type": "markdown",
   "id": "42801b99",
   "metadata": {},
   "source": [
    "### Time Based Key Value Store"
   ]
  },
  {
   "cell_type": "code",
   "execution_count": 109,
   "id": "4871bcd5",
   "metadata": {},
   "outputs": [],
   "source": [
    "class TimeMap:\n",
    "    def __init__(self):\n",
    "        \"\"\"\n",
    "        Initialize your data structure here.\n",
    "        \"\"\"\n",
    "        self.keyStore = {}  # key : list of [val, timestamp]\n",
    "\n",
    "    def set(self, key: str, value: str, timestamp: int) -> None:\n",
    "        if key not in self.keyStore:\n",
    "            self.keyStore[key] = []\n",
    "        self.keyStore[key].append([value, timestamp])\n",
    "\n",
    "    def get(self, key: str, timestamp: int) -> str:\n",
    "        res, values = \"\", self.keyStore.get(key, [])\n",
    "        l, r = 0, len(values) - 1\n",
    "        while l <= r:\n",
    "            m = (l + r) // 2\n",
    "            \n",
    "            logging.getLogger().info('m: {0}, l: {1}, r: {2}'.format(m, l, r))\n",
    "            \n",
    "            if values[m][1] <= timestamp:\n",
    "                res = values[m][0]\n",
    "                l = m + 1\n",
    "            else:\n",
    "                r = m - 1\n",
    "                \n",
    "            logging.getLogger().info('res: {0}, timestamp: {1}, res: {2}'.format(values[m][0], values[m][1], res))\n",
    "                \n",
    "        return res"
   ]
  },
  {
   "cell_type": "code",
   "execution_count": 113,
   "id": "02a1f96a",
   "metadata": {},
   "outputs": [
    {
     "name": "stderr",
     "output_type": "stream",
     "text": [
      "INFO:root:m: 0, l: 0, r: 1\n",
      "INFO:root:res: bar, timestamp: 1, res: bar\n",
      "INFO:root:m: 1, l: 1, r: 1\n",
      "INFO:root:res: bar2, timestamp: 4, res: bar\n"
     ]
    },
    {
     "name": "stdout",
     "output_type": "stream",
     "text": [
      "\u001b[32m.\u001b[0m\n",
      "\u001b[32m\u001b[32m\u001b[1m1 passed\u001b[0m\u001b[32m in 0.00s\u001b[0m\u001b[0m\n"
     ]
    }
   ],
   "source": [
    "%%ipytest -s\n",
    "def test1():\n",
    "    timeMap = TimeMap();\n",
    "    timeMap.set(\"foo\", \"bar\", 1);  # store the key \"foo\" and value \"bar\" along with timestamp = 1.\n",
    "#     timeMap.get(\"foo\", 1);         # return \"bar\"\n",
    "#     timeMap.get(\"foo\", 3);         # return \"bar\", since there is no value corresponding to foo at timestamp 3 and timestamp 2, then the only value is at timestamp 1 is \"bar\".\n",
    "    timeMap.set(\"foo\", \"bar2\", 4); # store the key \"foo\" and value \"bar2\" along with timestamp = 4.\n",
    "#     timeMap.get(\"foo\", 4);         # return \"bar2\"\n",
    "#     timeMap.get(\"foo\", 5);         # return \"bar2\"\n",
    "    assert timeMap.get(\"foo\", 2) == \"bar\""
   ]
  },
  {
   "cell_type": "markdown",
   "id": "488a2e0f",
   "metadata": {},
   "source": [
    "### Median of Two Sorted Arrays"
   ]
  },
  {
   "cell_type": "code",
   "execution_count": 139,
   "id": "1a82791c",
   "metadata": {},
   "outputs": [],
   "source": [
    "class Solution:\n",
    "    def findMedianSortedArrays(self, nums1: list[int], nums2: list[int]) -> float:\n",
    "        A, B = nums1, nums2\n",
    "        total = len(nums1) + len(nums2)\n",
    "        half = total // 2\n",
    "\n",
    "        if len(B) < len(A):\n",
    "            A, B = B, A\n",
    "\n",
    "        l, r = 0, len(A) - 1\n",
    "        while True:\n",
    "            i = (l + r) // 2  # A\n",
    "            j = half - i - 2  # B\n",
    "\n",
    "            Aleft = A[i] if i >= 0 else float(\"-infinity\")\n",
    "            Aright = A[i + 1] if (i + 1) < len(A) else float(\"infinity\")\n",
    "            Bleft = B[j] if j >= 0 else float(\"-infinity\")\n",
    "            Bright = B[j + 1] if (j + 1) < len(B) else float(\"infinity\")\n",
    "            \n",
    "            logging.getLogger().info('l: {0}, r: {1}, i: {2}, j: {3}, Aleft <= Bright and Bleft <= Aright: {4}'.format(l, r, i, j, Aleft <= Bright and Bleft <= Aright))\n",
    "            \n",
    "            logging.getLogger().info('Aleft: {0}, Aright: {1}'.format(Aleft, Aright))\n",
    "            logging.getLogger().info('Bleft: {0}, Bright: {1}'.format(Bleft, Bright))\n",
    "\n",
    "            \n",
    "            # partition is correct\n",
    "            if Aleft <= Bright and Bleft <= Aright:\n",
    "                # odd\n",
    "                if total % 2:\n",
    "                    return min(Aright, Bright)\n",
    "                # even\n",
    "                return (max(Aleft, Bleft) + min(Aright, Bright)) / 2\n",
    "            elif Aleft > Bright:\n",
    "                r = i - 1\n",
    "            else:\n",
    "                l = i + 1"
   ]
  },
  {
   "cell_type": "code",
   "execution_count": 144,
   "id": "64ee647a",
   "metadata": {},
   "outputs": [
    {
     "name": "stderr",
     "output_type": "stream",
     "text": [
      "INFO:root:l: 0, r: 3, i: 1, j: 1, Aleft <= Bright and Bleft <= Aright: False\n",
      "INFO:root:Aleft: 2, Aright: 3\n",
      "INFO:root:Bleft: 6, Bright: 7\n",
      "INFO:root:l: 2, r: 3, i: 2, j: 0, Aleft <= Bright and Bleft <= Aright: False\n",
      "INFO:root:Aleft: 3, Aright: 4\n",
      "INFO:root:Bleft: 5, Bright: 6\n",
      "INFO:root:l: 3, r: 3, i: 3, j: -1, Aleft <= Bright and Bleft <= Aright: True\n",
      "INFO:root:Aleft: 4, Aright: inf\n",
      "INFO:root:Bleft: -inf, Bright: 5\n"
     ]
    },
    {
     "name": "stdout",
     "output_type": "stream",
     "text": [
      "\u001b[32m.\u001b[0m\n",
      "\u001b[32m\u001b[32m\u001b[1m1 passed\u001b[0m\u001b[32m in 0.01s\u001b[0m\u001b[0m\n"
     ]
    }
   ],
   "source": [
    "%%ipytest -s\n",
    "def test1():\n",
    "    A = [1,2,3,4]\n",
    "    B = [5,6,7,8]\n",
    "    obj = Solution()\n",
    "    assert obj.findMedianSortedArrays(A, B) == 4.5"
   ]
  },
  {
   "cell_type": "code",
   "execution_count": null,
   "id": "cc695cf9",
   "metadata": {},
   "outputs": [],
   "source": []
  }
 ],
 "metadata": {
  "kernelspec": {
   "display_name": "Python 3.9 (tensorflow)",
   "language": "python",
   "name": "tensorflow"
  },
  "language_info": {
   "codemirror_mode": {
    "name": "ipython",
    "version": 3
   },
   "file_extension": ".py",
   "mimetype": "text/x-python",
   "name": "python",
   "nbconvert_exporter": "python",
   "pygments_lexer": "ipython3",
   "version": "3.9.13"
  }
 },
 "nbformat": 4,
 "nbformat_minor": 5
}
