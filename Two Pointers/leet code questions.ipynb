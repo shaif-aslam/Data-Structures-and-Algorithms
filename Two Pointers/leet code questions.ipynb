{
 "cells": [
  {
   "cell_type": "code",
   "execution_count": 1,
   "id": "f609647a",
   "metadata": {},
   "outputs": [],
   "source": [
    "import pytest\n",
    "import ipytest\n",
    "import logging\n",
    "logging.basicConfig(level=logging.NOTSET)\n",
    "ipytest.autoconfig()"
   ]
  },
  {
   "cell_type": "markdown",
   "id": "e0a6f2f3",
   "metadata": {},
   "source": [
    "### Valid Palindrome"
   ]
  },
  {
   "cell_type": "code",
   "execution_count": 2,
   "id": "c25ce2c5",
   "metadata": {},
   "outputs": [],
   "source": [
    "class Solution:\n",
    "    def isPalindrome(self, s: str) -> bool:\n",
    "        l, r = 0, len(s) - 1\n",
    "        while l < r:\n",
    "            \n",
    "            logging.getLogger().info('l: {0}, r: {1}'.format(l, r))\n",
    "            \n",
    "            while l < r and not self.alphanum(s[l]):\n",
    "                l += 1\n",
    "            while l < r and not self.alphanum(s[r]):\n",
    "                r -= 1\n",
    "            if s[l].lower() != s[r].lower():\n",
    "                return False\n",
    "            l += 1\n",
    "            r -= 1\n",
    "        return True\n",
    "\n",
    "    # Could write own alpha-numeric function\n",
    "    def alphanum(self, c):\n",
    "        return (\n",
    "            ord(\"A\") <= ord(c) <= ord(\"Z\")\n",
    "            or ord(\"a\") <= ord(c) <= ord(\"z\")\n",
    "            or ord(\"0\") <= ord(c) <= ord(\"9\")\n",
    "        )"
   ]
  },
  {
   "cell_type": "code",
   "execution_count": 3,
   "id": "a6d4e162",
   "metadata": {},
   "outputs": [
    {
     "name": "stderr",
     "output_type": "stream",
     "text": [
      "INFO:root:l: 0, r: 29\n",
      "INFO:root:l: 1, r: 28\n",
      "INFO:root:l: 3, r: 27\n",
      "INFO:root:l: 4, r: 26\n",
      "INFO:root:l: 5, r: 25\n",
      "INFO:root:l: 8, r: 24\n",
      "INFO:root:l: 10, r: 23\n",
      "INFO:root:l: 11, r: 20\n",
      "INFO:root:l: 12, r: 19\n",
      "INFO:root:l: 13, r: 18\n",
      "INFO:root:l: 16, r: 17\n"
     ]
    },
    {
     "name": "stdout",
     "output_type": "stream",
     "text": [
      "\u001b[32m.\u001b[0m\n",
      "\u001b[32m\u001b[32m\u001b[1m1 passed\u001b[0m\u001b[32m in 0.01s\u001b[0m\u001b[0m\n"
     ]
    }
   ],
   "source": [
    "%%ipytest -s\n",
    "def test1():\n",
    "    s = \"A man, a plan, a canal: Panama\"\n",
    "    obj = Solution()\n",
    "    assert obj.isPalindrome(s) == True"
   ]
  },
  {
   "cell_type": "markdown",
   "id": "d941f67e",
   "metadata": {},
   "source": [
    "### Two Sum II Input Array Is Sorted"
   ]
  },
  {
   "cell_type": "code",
   "execution_count": 4,
   "id": "ad192a0c",
   "metadata": {},
   "outputs": [],
   "source": [
    "class Solution:\n",
    "    def twoSum(self, numbers: list[int], target: int) -> list[int]:\n",
    "        l, r = 0, len(numbers) - 1\n",
    "\n",
    "        while l < r:\n",
    "            curSum = numbers[l] + numbers[r]\n",
    "            \n",
    "            logging.getLogger().info('numbers[l]: {0}, numbers[r]: {1}'.format(numbers[l], numbers[r]))\n",
    "\n",
    "            if curSum > target:\n",
    "                r -= 1\n",
    "            elif curSum < target:\n",
    "                l += 1\n",
    "            else:\n",
    "                return [l + 1, r + 1]"
   ]
  },
  {
   "cell_type": "code",
   "execution_count": 5,
   "id": "27ee6172",
   "metadata": {},
   "outputs": [
    {
     "name": "stderr",
     "output_type": "stream",
     "text": [
      "INFO:root:numbers[l]: 2, numbers[r]: 15\n",
      "INFO:root:numbers[l]: 2, numbers[r]: 11\n",
      "INFO:root:numbers[l]: 2, numbers[r]: 7\n"
     ]
    },
    {
     "name": "stdout",
     "output_type": "stream",
     "text": [
      "\u001b[32m.\u001b[0m\n",
      "\u001b[32m\u001b[32m\u001b[1m1 passed\u001b[0m\u001b[32m in 0.00s\u001b[0m\u001b[0m\n"
     ]
    }
   ],
   "source": [
    "%%ipytest -s\n",
    "def test1():\n",
    "    arr = [2,7,11,15]\n",
    "    t = 9\n",
    "    obj = Solution()\n",
    "    assert obj.twoSum(arr,t) == [1,2]"
   ]
  },
  {
   "cell_type": "markdown",
   "id": "14efb129",
   "metadata": {},
   "source": [
    "### 3Sum"
   ]
  },
  {
   "cell_type": "code",
   "execution_count": 6,
   "id": "598d4aa7",
   "metadata": {},
   "outputs": [],
   "source": [
    "class Solution:\n",
    "    def threeSum(self, nums: list[int]) -> list[list[int]]:\n",
    "        res = []\n",
    "        nums.sort()\n",
    "\n",
    "        for i, a in enumerate(nums):\n",
    "            # Skip positive integers\n",
    "            if a > 0:\n",
    "                break\n",
    "\n",
    "            if i > 0 and a == nums[i - 1]:\n",
    "                continue\n",
    "\n",
    "            l, r = i + 1, len(nums) - 1\n",
    "            while l < r:\n",
    "                threeSum = a + nums[l] + nums[r]\n",
    "                \n",
    "                logging.getLogger().info('a: {0}, nums[l]: {1}, nums[r]: {2}'.format(a, nums[l], nums[r]))\n",
    "                \n",
    "                if threeSum > 0:\n",
    "                    r -= 1\n",
    "                elif threeSum < 0:\n",
    "                    l += 1\n",
    "                else:\n",
    "                    res.append([a, nums[l], nums[r]])\n",
    "                    l += 1\n",
    "                    r -= 1\n",
    "                    while nums[l] == nums[l - 1] and l < r:\n",
    "                        l += 1\n",
    "        return res"
   ]
  },
  {
   "cell_type": "code",
   "execution_count": 7,
   "id": "fea9c388",
   "metadata": {},
   "outputs": [
    {
     "name": "stderr",
     "output_type": "stream",
     "text": [
      "INFO:root:a: -4, nums[l]: -1, nums[r]: 2\n",
      "INFO:root:a: -4, nums[l]: -1, nums[r]: 2\n",
      "INFO:root:a: -4, nums[l]: 0, nums[r]: 2\n",
      "INFO:root:a: -4, nums[l]: 1, nums[r]: 2\n",
      "INFO:root:a: -1, nums[l]: -1, nums[r]: 2\n",
      "INFO:root:a: -1, nums[l]: 0, nums[r]: 1\n",
      "INFO:root:a: 0, nums[l]: 1, nums[r]: 2\n"
     ]
    },
    {
     "name": "stdout",
     "output_type": "stream",
     "text": [
      "\u001b[32m.\u001b[0m\n",
      "\u001b[32m\u001b[32m\u001b[1m1 passed\u001b[0m\u001b[32m in 0.00s\u001b[0m\u001b[0m\n"
     ]
    }
   ],
   "source": [
    "%%ipytest -s\n",
    "def test1():\n",
    "    arr = [-1,0,1,2,-1,-4]\n",
    "    obj = Solution()\n",
    "    assert obj.threeSum(arr) == [[-1,-1,2],[-1,0,1]]"
   ]
  },
  {
   "cell_type": "markdown",
   "id": "740a3bda",
   "metadata": {},
   "source": [
    "### Container With Most Water"
   ]
  },
  {
   "cell_type": "code",
   "execution_count": 8,
   "id": "2609b8d5",
   "metadata": {},
   "outputs": [],
   "source": [
    "class Solution:\n",
    "    def maxArea(self, height: list[int]) -> int:\n",
    "        l, r = 0, len(height) - 1\n",
    "        res = 0\n",
    "\n",
    "        while l < r:\n",
    "            res = max(res, min(height[l], height[r]) * (r - l))\n",
    "            \n",
    "            if height[l] < height[r]:\n",
    "                l += 1\n",
    "            elif height[r] <= height[l]:\n",
    "                r -= 1\n",
    "                \n",
    "            logging.getLogger().info('res: {0}, l: {1}, r: {2}'.format(res, l, r))\n",
    "            \n",
    "        return res"
   ]
  },
  {
   "cell_type": "code",
   "execution_count": 9,
   "id": "9383c90a",
   "metadata": {},
   "outputs": [
    {
     "name": "stderr",
     "output_type": "stream",
     "text": [
      "INFO:root:res: 8, l: 1, r: 8\n",
      "INFO:root:res: 49, l: 1, r: 7\n",
      "INFO:root:res: 49, l: 1, r: 6\n",
      "INFO:root:res: 49, l: 1, r: 5\n",
      "INFO:root:res: 49, l: 1, r: 4\n",
      "INFO:root:res: 49, l: 1, r: 3\n",
      "INFO:root:res: 49, l: 1, r: 2\n",
      "INFO:root:res: 49, l: 1, r: 1\n"
     ]
    },
    {
     "name": "stdout",
     "output_type": "stream",
     "text": [
      "\u001b[32m.\u001b[0m\n",
      "\u001b[32m\u001b[32m\u001b[1m1 passed\u001b[0m\u001b[32m in 0.00s\u001b[0m\u001b[0m\n"
     ]
    }
   ],
   "source": [
    "%%ipytest -s\n",
    "def test1():\n",
    "    arr = [1,8,6,2,5,4,8,3,7]\n",
    "    obj = Solution()\n",
    "    assert obj.maxArea(arr) == 49"
   ]
  },
  {
   "cell_type": "markdown",
   "id": "d6028813",
   "metadata": {},
   "source": [
    "### Trapping Rain Water"
   ]
  },
  {
   "cell_type": "code",
   "execution_count": 10,
   "id": "84916826",
   "metadata": {},
   "outputs": [],
   "source": [
    "class Solution:\n",
    "    def trap(self, height: list[int]) -> int:\n",
    "        if not height:\n",
    "            return 0\n",
    "\n",
    "        l, r = 0, len(height) - 1\n",
    "        leftMax, rightMax = height[l], height[r]\n",
    "        res = 0\n",
    "        while l < r:\n",
    "            if leftMax < rightMax:\n",
    "                l += 1\n",
    "                leftMax = max(leftMax, height[l])\n",
    "                res += leftMax - height[l]\n",
    "            else:\n",
    "                r -= 1\n",
    "                rightMax = max(rightMax, height[r])\n",
    "                res += rightMax - height[r]\n",
    "                \n",
    "            logging.getLogger().info('res: {0}, l: {1}, r: {2}'.format(res, l, r))\n",
    "            \n",
    "        return res"
   ]
  },
  {
   "cell_type": "code",
   "execution_count": 11,
   "id": "8cb620c1",
   "metadata": {},
   "outputs": [
    {
     "name": "stderr",
     "output_type": "stream",
     "text": [
      "INFO:root:res: 0, l: 1, r: 11\n",
      "INFO:root:res: 0, l: 1, r: 10\n",
      "INFO:root:res: 1, l: 2, r: 10\n",
      "INFO:root:res: 1, l: 3, r: 10\n",
      "INFO:root:res: 2, l: 3, r: 9\n",
      "INFO:root:res: 2, l: 3, r: 8\n",
      "INFO:root:res: 2, l: 3, r: 7\n",
      "INFO:root:res: 3, l: 4, r: 7\n",
      "INFO:root:res: 5, l: 5, r: 7\n",
      "INFO:root:res: 6, l: 6, r: 7\n",
      "INFO:root:res: 6, l: 7, r: 7\n"
     ]
    },
    {
     "name": "stdout",
     "output_type": "stream",
     "text": [
      "\u001b[32m.\u001b[0m\n",
      "\u001b[32m\u001b[32m\u001b[1m1 passed\u001b[0m\u001b[32m in 0.01s\u001b[0m\u001b[0m\n"
     ]
    }
   ],
   "source": [
    "%%ipytest -s\n",
    "def test1():\n",
    "    arr = [0,1,0,2,1,0,1,3,2,1,2,1]\n",
    "    obj = Solution()\n",
    "    assert obj.trap(arr) == 6"
   ]
  },
  {
   "cell_type": "code",
   "execution_count": null,
   "id": "b7141c70",
   "metadata": {},
   "outputs": [],
   "source": []
  }
 ],
 "metadata": {
  "kernelspec": {
   "display_name": "Python 3.9 (tensorflow)",
   "language": "python",
   "name": "tensorflow"
  },
  "language_info": {
   "codemirror_mode": {
    "name": "ipython",
    "version": 3
   },
   "file_extension": ".py",
   "mimetype": "text/x-python",
   "name": "python",
   "nbconvert_exporter": "python",
   "pygments_lexer": "ipython3",
   "version": "3.9.13"
  }
 },
 "nbformat": 4,
 "nbformat_minor": 5
}
